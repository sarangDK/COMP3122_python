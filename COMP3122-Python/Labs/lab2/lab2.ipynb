{
 "cells": [
  {
   "cell_type": "markdown",
   "metadata": {},
   "source": [
    "## Python Recap\n"
   ]
  },
  {
   "cell_type": "markdown",
   "metadata": {},
   "source": [
    "## List Slicing "
   ]
  },
  {
   "cell_type": "markdown",
   "metadata": {},
   "source": [
    "\"We focus on `list` slicing here because of its importance in solving data science problems. Next week, we'll talk about `NumPy arrays`, which are inherently lists of numbers with more efficiency for numerical computations such as statistical analysis (e.g., mean, median, and variance) and linear algebra (e.g., matrix multiplication and dot product).\n"
   ]
  },
  {
   "cell_type": "markdown",
   "metadata": {},
   "source": [
    "**Basic slicing with step**"
   ]
  },
  {
   "cell_type": "code",
   "execution_count": 2,
   "metadata": {},
   "outputs": [
    {
     "name": "stdout",
     "output_type": "stream",
     "text": [
      "[20, 40]\n",
      "80\n"
     ]
    }
   ],
   "source": [
    "# [startIndex:stopIndex:step] - start index is inclusive, stop index is exclusive\n",
    "# Create a list of numbers\n",
    "my_list = [10, 20, 30, 40, 50, 60, 70, 80]\n",
    "\n",
    "# Slicing from index 1 to 5 (exclusive) with a step of 2\n",
    "print(my_list[1:5:2])  # Output: [20, 40]\n",
    "\n",
    "print(my_list[-1])"
   ]
  },
  {
   "cell_type": "markdown",
   "metadata": {},
   "source": [
    "**Slicing with negative indices and negative steps**"
   ]
  },
  {
   "cell_type": "code",
   "execution_count": 3,
   "metadata": {},
   "outputs": [
    {
     "name": "stdout",
     "output_type": "stream",
     "text": [
      "[40, 50, 60, 70]\n",
      "[80, 70, 60, 50]\n"
     ]
    }
   ],
   "source": [
    "# Slicing the list using negative indices\n",
    "print(my_list[-5:-1])  # Output: [40, 50, 60, 70]\n",
    "print(my_list[-1:-5:-1])  # Output: [80, 70, 60, 50]"
   ]
  },
  {
   "cell_type": "markdown",
   "metadata": {},
   "source": [
    "**Similarity between slicing and range function**"
   ]
  },
  {
   "cell_type": "code",
   "execution_count": 4,
   "metadata": {},
   "outputs": [
    {
     "name": "stdout",
     "output_type": "stream",
     "text": [
      "====positive step=====\n",
      "2\n",
      "4\n",
      "6\n",
      "8\n",
      "====negative step=====\n",
      "10\n",
      "9\n",
      "8\n",
      "7\n",
      "6\n"
     ]
    }
   ],
   "source": [
    "print(\"====positive step=====\")\n",
    "for i in range(2, 10, 2):\n",
    "    print(i)\n",
    "\n",
    "print(\"====negative step=====\")\n",
    "for i in range(10, 5, -1):   \n",
    "    print(i)"
   ]
  },
  {
   "cell_type": "markdown",
   "metadata": {},
   "source": [
    "**Omitting start or end index**"
   ]
  },
  {
   "cell_type": "code",
   "execution_count": 5,
   "metadata": {},
   "outputs": [
    {
     "name": "stdout",
     "output_type": "stream",
     "text": [
      "[10, 20, 30, 40, 50]\n",
      "[40, 50, 60, 70, 80]\n",
      "[10, 30, 50, 70]\n"
     ]
    }
   ],
   "source": [
    "# Slicing from the beginning to index 4 (exclusive)\n",
    "print(my_list[:5])  # Output: [10, 20, 30, 40, 50]\n",
    "\n",
    "# Slicing from index 3 to the end of the list\n",
    "print(my_list[3:])  # Output: [40, 50, 60, 70, 80]\n",
    "\n",
    "# Slicing with a step of 2\n",
    "print(my_list[::2])  # Output: [10, 30, 50, 70]\n"
   ]
  },
  {
   "cell_type": "markdown",
   "metadata": {},
   "source": [
    "**Reverse the list using slicing**"
   ]
  },
  {
   "cell_type": "code",
   "execution_count": 6,
   "metadata": {},
   "outputs": [
    {
     "name": "stdout",
     "output_type": "stream",
     "text": [
      "[80, 70, 60, 50, 40, 30, 20, 10]\n"
     ]
    }
   ],
   "source": [
    "print(my_list[::-1])  # Output: [80, 70, 60, 50, 40, 30, 20, 10]"
   ]
  },
  {
   "cell_type": "code",
   "execution_count": 7,
   "metadata": {},
   "outputs": [
    {
     "data": {
      "text/plain": [
       "array([ 1,  8,  3, 10,  5,  4,  7])"
      ]
     },
     "execution_count": 7,
     "metadata": {},
     "output_type": "execute_result"
    }
   ],
   "source": [
    "from sklearn.model_selection import train_test_split\n",
    "import numpy as np\n",
    "\n",
    "X = np.array([[1], [2], [3], [4], [5], [6], [7], [8], [9], [10]])\n",
    "\n",
    "\n",
    "y = [1, 2, 3, 4, 5, 6, 7, 8, 9, 10]\n",
    "X_train, X_test, y_train, y_test = train_test_split(X, y, test_size=0.3, random_state=42)\n",
    "X_train.shape\n",
    "\n",
    "X_train.reshape(-1)"
   ]
  },
  {
   "cell_type": "markdown",
   "metadata": {},
   "source": [
    "**Copying a list using slicing**"
   ]
  },
  {
   "cell_type": "code",
   "execution_count": 20,
   "metadata": {},
   "outputs": [
    {
     "name": "stdout",
     "output_type": "stream",
     "text": [
      "[100, 20, 30, 40, 50, 60, 70, 80]\n",
      "my_list [100, 20, 30, 40, 50, 60, 70, 80]\n",
      "copy_list [100, 20, 30, 40, 50, 60, 70, 80]\n",
      "======change copy_list[0] to 100======\n",
      "copy_list [100, 20, 30, 40, 50, 60, 70, 80]\n",
      "my_list [100, 20, 30, 40, 50, 60, 70, 80]\n"
     ]
    }
   ],
   "source": [
    "# Create a copy of the entire list using slicing\n",
    "copy_list = my_list[:]\n",
    "print(copy_list)  # Output: [10, 20, 30, 40, 50, 60, 70, 80]\n",
    "\n",
    "\n",
    "copy_list = my_list\n",
    "print(\"my_list\", my_list)\n",
    "print(\"copy_list\", copy_list)\n",
    "\n",
    "print(\"======change copy_list[0] to 100======\")\n",
    "\n",
    "copy_list[0] = 100\n",
    "print(\"copy_list\", copy_list)\n",
    "print(\"my_list\", my_list)"
   ]
  },
  {
   "cell_type": "markdown",
   "metadata": {},
   "source": [
    "**Question:** What is the difference between normal copy (`list2` = `list1`) and copy with slicing (`list2`=`list1[:]`)?"
   ]
  },
  {
   "cell_type": "markdown",
   "metadata": {},
   "source": [
    "## List Comprehension"
   ]
  },
  {
   "cell_type": "markdown",
   "metadata": {},
   "source": [
    "List comprehension can be replaced by a `for` loop. However, it is more concise and readable. As a data scientis, it is a good practice to use list comprehension when possible. "
   ]
  },
  {
   "cell_type": "markdown",
   "metadata": {},
   "source": [
    "**Map data from one list to another list**"
   ]
  },
  {
   "cell_type": "code",
   "execution_count": 9,
   "metadata": {},
   "outputs": [
    {
     "name": "stdout",
     "output_type": "stream",
     "text": [
      "[0, 1, 4, 9, 16]\n"
     ]
    }
   ],
   "source": [
    "# for loop to iterate the list\n",
    "nums = [0, 1, 2, 3, 4]\n",
    "squares = []\n",
    "for x in nums:\n",
    "    squares.append(x ** 2)\n",
    "print(squares)   # Prints [0, 1, 4, 9, 16]\n",
    "\n",
    "\n"
   ]
  },
  {
   "cell_type": "code",
   "execution_count": 10,
   "metadata": {},
   "outputs": [
    {
     "name": "stdout",
     "output_type": "stream",
     "text": [
      "[0, 1, 4, 9, 16]\n",
      "[0, 1, 8, 27, 64]\n"
     ]
    }
   ],
   "source": [
    "# list comprehensions (preferred)\n",
    "nums = [0, 1, 2, 3, 4]\n",
    "squares = [x ** 2 for x in nums] # list comprehension \n",
    "\n",
    "triangle = [x **3 for x in nums] # list comprehension\n",
    "print(squares)   # Prints [0, 1, 4, 9, 16]\n",
    "print(triangle)"
   ]
  },
  {
   "cell_type": "markdown",
   "metadata": {},
   "source": [
    "**Filter data**"
   ]
  },
  {
   "cell_type": "code",
   "execution_count": null,
   "metadata": {},
   "outputs": [],
   "source": []
  },
  {
   "cell_type": "code",
   "execution_count": 11,
   "metadata": {},
   "outputs": [
    {
     "name": "stdout",
     "output_type": "stream",
     "text": [
      "[1, 2, 4]\n"
     ]
    }
   ],
   "source": [
    "nums = [0, 1, 2, -3, 4, -5]\n",
    "#filter pisitive numbers\n",
    "even_squares = [x for x in nums if x > 0]\n",
    "print(even_squares)  # Prints \"[0, 4, 16]\""
   ]
  },
  {
   "cell_type": "markdown",
   "metadata": {},
   "source": [
    "## Lambda functions (anonymous functions)\n",
    "\n",
    "Lambda 함수는 파이썬에서 익명함수라고 불리며, 이름이없는 짧은 함수 입니다 \n",
    "\n",
    "주로 간단한 연산을 위해 사용되며 한줄로 함수를 작성할수있습니다. \n",
    "\n",
    "def 키워드를 사용해 일반적인 함수로 만드는것과는 달리, lambda 키워드를 사용하여 즉성에서 함수를 정의가능 "
   ]
  },
  {
   "cell_type": "markdown",
   "metadata": {},
   "source": [
    "Sometimes, you only need a function for a quick operation, and there's no need to give it a name.\n",
    "`lambda` allows you to define functions on the fly, without cluttering your code with function names that are only used once. \n",
    "\n",
    "Syntax:\n",
    "\n",
    "```python\n",
    "#defining a nameless function in one line\n",
    "lambda arguments: expression\n",
    "```"
   ]
  },
  {
   "cell_type": "code",
   "execution_count": 12,
   "metadata": {},
   "outputs": [
    {
     "name": "stdout",
     "output_type": "stream",
     "text": [
      "120\n"
     ]
    }
   ],
   "source": [
    "from functools import reduce\n",
    "\n",
    "\n",
    "# List of numbers\n",
    "numbers = [1, 2, 3, 4, 5]\n",
    "\n",
    "# Use reduce with lambda to calculate the product of all numbers\n",
    "result = reduce(lambda x, y: x * y, numbers)\n",
    "\n",
    "# reduce() 함수는 파이썬의 내장함수중 하나로, 리스트와 같은 시퀀스 자료형을 하나의 값으로 축약하는데 사용됨\n",
    "\n",
    "#First iteration: 1 * 2 = 2\n",
    "#Second iteration: 2 * 3 = 6\n",
    "#Third iteration: 6 * 4 = 24\n",
    "#Fourth iteration: 24 * 5 = 120\n",
    "\n",
    "print(result)  # Output: 120"
   ]
  },
  {
   "cell_type": "markdown",
   "metadata": {},
   "source": [
    "**Note:** `reduce()` applies a function cumulatively to the items of an iterable (such as list), reducing them to a single result."
   ]
  },
  {
   "cell_type": "markdown",
   "metadata": {},
   "source": [
    "Another approach is to use `def` to define a function. However, `def` is more suitable for functions that are used multiple times in your code."
   ]
  },
  {
   "cell_type": "code",
   "execution_count": 13,
   "metadata": {},
   "outputs": [
    {
     "name": "stdout",
     "output_type": "stream",
     "text": [
      "120\n"
     ]
    }
   ],
   "source": [
    "def product(x, y):\n",
    "    return x * y\n",
    "\n",
    "result = reduce(product, numbers)  # Output: 120\n",
    "print(result)  # Output: 120"
   ]
  },
  {
   "cell_type": "markdown",
   "metadata": {},
   "source": [
    "**Note:**  we don't call a fucntion product(x, y), instead we pass the function itself (functional programming). So with `lambda`, we can pass an function without name (anonymous) as an argument to another function."
   ]
  },
  {
   "cell_type": "markdown",
   "metadata": {},
   "source": [
    "We use `lambda` function next session when we talk about `Pandas` library for data manipulation (e.g., filtering rows, selecting columns, and applying functions to columns)."
   ]
  },
  {
   "cell_type": "markdown",
   "metadata": {},
   "source": [
    "## Dictionary \n",
    "`Dictionary` in python is a very useful data structure to represents data in key-value pairs. We're going to talk about the other represntation of data such `pandas dataframe` in this course. But keep in mind, conceptually, they are other manifestation of `dictionary` in python with some addtion features to make it easier to work with data.\n",
    "\n",
    "\n",
    "Dictonary 는 파이썬에서 가장 중요한 데이터 구조중 하나로 key와 value 의 쌍으로 데이터를 저장하는 연관배열 (associative array) 또는 해시맵 (hash map) 입니다. 각 키는 고유하며, 키를 통해 해당하는 값을 빠르게 찾을수 있습니다 "
   ]
  },
  {
   "cell_type": "code",
   "execution_count": 14,
   "metadata": {},
   "outputs": [],
   "source": [
    "data_dict = {'Name': ['Alice', 'Bob', 'Aritra'],\n",
    "                   'Age': [25, 30, 35],\n",
    "                   'Location': ['Seattle', 'New York', 'Kona']}"
   ]
  },
  {
   "cell_type": "code",
   "execution_count": 15,
   "metadata": {},
   "outputs": [
    {
     "name": "stdout",
     "output_type": "stream",
     "text": [
      "Alice\n"
     ]
    }
   ],
   "source": [
    "print(data_dict['Name'][0])  # Output: Alice "
   ]
  },
  {
   "cell_type": "markdown",
   "metadata": {},
   "source": [
    "This data is in the form of `dictionaly of lists`. We can also express it in the form of `list of dictionaries` as shown below:"
   ]
  },
  {
   "cell_type": "code",
   "execution_count": 16,
   "metadata": {},
   "outputs": [],
   "source": [
    "data_list = [{'Name': 'Alice', 'Age': 25, 'Location': 'Seattle'}, \n",
    "         {'Name': 'Bob', 'Age': 30, 'Location': 'New York'}, \n",
    "         {'Name': 'Aritra', 'Age': 35, 'Location': 'Kona'}]"
   ]
  },
  {
   "cell_type": "code",
   "execution_count": 17,
   "metadata": {},
   "outputs": [
    {
     "name": "stdout",
     "output_type": "stream",
     "text": [
      "Alice\n"
     ]
    }
   ],
   "source": [
    "print(data_list[0]['Name'])  # Output: Alice"
   ]
  },
  {
   "cell_type": "markdown",
   "metadata": {},
   "source": [
    "## Instructions\n",
    "Use the links to write your codes in LeetCode website. After writing your code, copy and paste it from LeetCode the `.html` file. Submit the `.html` file in the assignment submission area on D2L.\n",
    "\n",
    "**Important Note:** Mention in your text file whether your code accepted or not. There is NO penalty for wrong answers. The purpose of this assignment is to practice coding.\n",
    "\n",
    "\n",
    "### LeetCode problems on Dictionary\n",
    "\n",
    "**217. Contains Duplicate** - Live programming\n",
    "\n",
    "https://leetcode.com/problems/contains-duplicate/description/\n",
    "\n",
    "\n",
    "**242. Valid Anagram**\n",
    "\n",
    "https://leetcode.com/problems/valid-anagram/description/\n",
    "\n",
    "**1. Two Sum** \n",
    "\n",
    "https://leetcode.com/problems/two-sum/description/\n",
    "\n",
    "**26. Remove Duplicates from Sorted Array**\n",
    "\n",
    "https://leetcode.com/problems/remove-duplicates-from-sorted-array/description/"
   ]
  },
  {
   "cell_type": "code",
   "execution_count": 18,
   "metadata": {},
   "outputs": [
    {
     "ename": "NameError",
     "evalue": "name 'List' is not defined",
     "output_type": "error",
     "traceback": [
      "\u001b[1;31m---------------------------------------------------------------------------\u001b[0m",
      "\u001b[1;31mNameError\u001b[0m                                 Traceback (most recent call last)",
      "Cell \u001b[1;32mIn[18], line 15\u001b[0m\n\u001b[0;32m     10\u001b[0m         \u001b[38;5;28;01mreturn\u001b[39;00m \u001b[38;5;28;01mFalse\u001b[39;00m\n\u001b[0;32m     14\u001b[0m \u001b[38;5;66;03m# Answer from professor \u001b[39;00m\n\u001b[1;32m---> 15\u001b[0m \u001b[38;5;28;01mclass\u001b[39;00m \u001b[38;5;21;01mSolution\u001b[39;00m:\n\u001b[0;32m     16\u001b[0m     \u001b[38;5;28;01mdef\u001b[39;00m \u001b[38;5;21mcontainsDuplicate\u001b[39m(\u001b[38;5;28mself\u001b[39m, nums: List[\u001b[38;5;28mint\u001b[39m]) \u001b[38;5;241m-\u001b[39m\u001b[38;5;241m>\u001b[39m \u001b[38;5;28mbool\u001b[39m:\n\u001b[0;32m     17\u001b[0m         \u001b[38;5;28mdict\u001b[39m \u001b[38;5;241m=\u001b[39m {}\n",
      "Cell \u001b[1;32mIn[18], line 16\u001b[0m, in \u001b[0;36mSolution\u001b[1;34m()\u001b[0m\n\u001b[0;32m     15\u001b[0m \u001b[38;5;28;01mclass\u001b[39;00m \u001b[38;5;21;01mSolution\u001b[39;00m:\n\u001b[1;32m---> 16\u001b[0m     \u001b[38;5;28;01mdef\u001b[39;00m \u001b[38;5;21mcontainsDuplicate\u001b[39m(\u001b[38;5;28mself\u001b[39m, nums: List[\u001b[38;5;28mint\u001b[39m]) \u001b[38;5;241m-\u001b[39m\u001b[38;5;241m>\u001b[39m \u001b[38;5;28mbool\u001b[39m:\n\u001b[0;32m     17\u001b[0m         \u001b[38;5;28mdict\u001b[39m \u001b[38;5;241m=\u001b[39m {}\n\u001b[0;32m     19\u001b[0m         \u001b[38;5;28;01mfor\u001b[39;00m num \u001b[38;5;129;01min\u001b[39;00m nums:\n",
      "\u001b[1;31mNameError\u001b[0m: name 'List' is not defined"
     ]
    }
   ],
   "source": [
    "# Contains Duplicate - Accepted\n",
    "class Solution(object):\n",
    "    def containsDuplicate(self, nums):\n",
    "        num_set = set()\n",
    "        for i in nums:\n",
    "            if i in num_set:\n",
    "                return True\n",
    "            else:\n",
    "                num_set.add(i)\n",
    "        return False\n",
    "    \n",
    "\n",
    "\n",
    "# Answer from professor \n",
    "class Solution:\n",
    "    def containsDuplicate(self, nums: List[int]) -> bool:\n",
    "        dict = {}\n",
    "\n",
    "        for num in nums:\n",
    "            if num in dict:\n",
    "                dict[num] += 1\n",
    "            else:\n",
    "                dict[num] = 1\n",
    "        \n",
    "        for key,value in dict.items():\n",
    "            if value > 1:\n",
    "                return True\n",
    "            else:\n",
    "                return False"
   ]
  },
  {
   "cell_type": "code",
   "execution_count": null,
   "metadata": {},
   "outputs": [],
   "source": [
    "# 242 Valid Anagram - Accepted\n",
    "class Solution(object):\n",
    "    def isAnagram(self, s, t):\n",
    "        \"\"\"\n",
    "        :type s: str\n",
    "        :type t: str\n",
    "        :rtype: bool\n",
    "        \"\"\"\n",
    "\n",
    "        n, m = len(s), len(t)\n",
    "        letterDict = {}\n",
    "        if n != m:\n",
    "            return False\n",
    "\n",
    "        for i in range(n):\n",
    "            letterT, letterS = t[i], s[i]\n",
    "            if letterT not in letterDict:\n",
    "                letterDict[letterT] = 1\n",
    "            else:\n",
    "                letterDict[letterT] += 1\n",
    "            \n",
    "            if letterS not in letterDict:\n",
    "                letterDict[letterS] = -1\n",
    "            else:\n",
    "                letterDict[letterS] -= 1\n",
    "    \n",
    "        for value in letterDict.values():\n",
    "             if value != 0:\n",
    "                 return False\n",
    "        \n",
    "        return True"
   ]
  },
  {
   "cell_type": "code",
   "execution_count": null,
   "metadata": {},
   "outputs": [],
   "source": [
    "#  Two Sum - Accepted \n",
    "class Solution(object):\n",
    "    def twoSum(self, nums, target):\n",
    "        targetlist = []\n",
    "\n",
    "        for index, num in enumerate(nums):\n",
    "            for count in range(index + 1, len(nums)):\n",
    "                if (num + nums[count]) == target:\n",
    "                    targetlist.append(index)\n",
    "                    targetlist.append(count)\n",
    "                    return targetlist\n",
    "            \n",
    "                \n",
    "        "
   ]
  },
  {
   "cell_type": "code",
   "execution_count": null,
   "metadata": {},
   "outputs": [],
   "source": [
    "# remove duplicates from sorted array - Accepted\n",
    "class Solution(object):\n",
    "    def removeDuplicates(self, nums):\n",
    "        i = 0 \n",
    "        j = 1\n",
    "        while i<= j and j < len(nums):\n",
    "            if nums[i] != nums[j]:\n",
    "                nums[i+1] = nums[j]\n",
    "                i += 1\n",
    "            j += 1\n",
    "        return i + 1"
   ]
  },
  {
   "cell_type": "markdown",
   "metadata": {},
   "source": [
    "## Practice: Generators"
   ]
  },
  {
   "cell_type": "code",
   "execution_count": null,
   "metadata": {},
   "outputs": [
    {
     "data": {
      "text/plain": [
       "0"
      ]
     },
     "metadata": {},
     "output_type": "display_data"
    }
   ],
   "source": [
    "# For Machine Learning, there is often a large set of data that must be processed\n",
    "# Need generators to save on memory space when looping over a large data set or infinite loop\n",
    "def infinite_sequence():\n",
    "    num = 0\n",
    "    while True:\n",
    "        yield num # yield keyword it asks the system to use a generator and only loads one item in memory at a time\n",
    "        print(num)\n",
    "        num += 1\n",
    "        \n",
    "gen = infinite_sequence()\n",
    "next(gen) # Function moves an iterator to the next item"
   ]
  },
  {
   "cell_type": "code",
   "execution_count": null,
   "metadata": {},
   "outputs": [
    {
     "name": "stdout",
     "output_type": "stream",
     "text": [
      "0\n"
     ]
    },
    {
     "data": {
      "text/plain": [
       "1"
      ]
     },
     "metadata": {},
     "output_type": "display_data"
    }
   ],
   "source": [
    "next(gen)"
   ]
  },
  {
   "cell_type": "code",
   "execution_count": null,
   "metadata": {},
   "outputs": [
    {
     "name": "stdout",
     "output_type": "stream",
     "text": [
      "2\n"
     ]
    },
    {
     "data": {
      "text/plain": [
       "3"
      ]
     },
     "metadata": {},
     "output_type": "display_data"
    }
   ],
   "source": [
    "next(gen)"
   ]
  },
  {
   "cell_type": "markdown",
   "metadata": {},
   "source": [
    "## Practice: Exceptions and errors"
   ]
  },
  {
   "cell_type": "code",
   "execution_count": null,
   "metadata": {},
   "outputs": [],
   "source": [
    "# Options for using exceptions:\n",
    "# 1. raise/throw a built-in exception\n",
    "# 2. create a custom exception, and then raise/throw it"
   ]
  },
  {
   "cell_type": "code",
   "execution_count": 4,
   "metadata": {},
   "outputs": [
    {
     "name": "stdout",
     "output_type": "stream",
     "text": [
      "SIN number invalid: SIN number must be exactly 9 digits\n"
     ]
    }
   ],
   "source": [
    "# raise keyword can be used to raise/throw an error during production (live running of the code)\n",
    "sin_number = 1111111112 # Business constraint: SIN number is always 9 digits\n",
    "# Programming constraint -> Raise/throw the error\n",
    "\n",
    "# raise keyword passes the control of the computer to the error handler. \n",
    "# And does not continue the regular execution of the code\n",
    "try:\n",
    "    if len(str(sin_number)) != 9:\n",
    "        raise ValueError(\"SIN number must be exactly 9 digits\");\n",
    "    else:\n",
    "        print(\"SIN number is valid\")\n",
    "except(ValueError) as valueErrorObject:\n",
    "        print(f\"SIN number invalid: {valueErrorObject}\")\n",
    "\n"
   ]
  },
  {
   "cell_type": "code",
   "execution_count": null,
   "metadata": {},
   "outputs": [
    {
     "ename": "ZeroDivisionError",
     "evalue": "division by zero",
     "output_type": "error",
     "traceback": [
      "\u001b[0;31m---------------------------------------------------------------------------\u001b[0m\n",
      "\u001b[0;31mZeroDivisionError\u001b[0m                         Traceback (most recent call last)\n",
      "Cell \u001b[0;32mIn[25], line 1\u001b[0m\n",
      "\u001b[0;32m----> 1\u001b[0m quotient \u001b[38;5;241m=\u001b[39m \u001b[38;5;241m1\u001b[39m\u001b[38;5;241m/\u001b[39m\u001b[38;5;241m0\u001b[39m\n",
      "\n",
      "\u001b[0;31mZeroDivisionError\u001b[0m: division by zero"
     ]
    }
   ],
   "source": [
    "quotient = 1/0 # This will raise an error on its own"
   ]
  },
  {
   "cell_type": "code",
   "execution_count": null,
   "metadata": {},
   "outputs": [
    {
     "ename": "AssertionError",
     "evalue": "The SIN number must be exactly 9 digits, but was: 1111111112",
     "output_type": "error",
     "traceback": [
      "\u001b[0;31m---------------------------------------------------------------------------\u001b[0m\n",
      "\u001b[0;31mAssertionError\u001b[0m                            Traceback (most recent call last)\n",
      "Cell \u001b[0;32mIn[31], line 2\u001b[0m\n",
      "\u001b[1;32m      1\u001b[0m \u001b[38;5;66;03m# assert() function can be used for unit testing\u001b[39;00m\n",
      "\u001b[0;32m----> 2\u001b[0m \u001b[38;5;28;01massert\u001b[39;00m(\u001b[38;5;28mlen\u001b[39m(\u001b[38;5;28mstr\u001b[39m(sin_number)) \u001b[38;5;241m==\u001b[39m \u001b[38;5;241m9\u001b[39m), \u001b[38;5;124mf\u001b[39m\u001b[38;5;124m\"\u001b[39m\u001b[38;5;124mThe SIN number must be exactly 9 digits, but was: \u001b[39m\u001b[38;5;132;01m{\u001b[39;00msin_number\u001b[38;5;132;01m}\u001b[39;00m\u001b[38;5;124m\"\u001b[39m\n",
      "\n",
      "\u001b[0;31mAssertionError\u001b[0m: The SIN number must be exactly 9 digits, but was: 1111111112"
     ]
    }
   ],
   "source": [
    "# assert() function can be used for unit testing\n",
    "assert(len(str(sin_number)) == 9), f\"The SIN number must be exactly 9 digits, but was: {sin_number}\""
   ]
  }
 ],
 "metadata": {
  "kernelspec": {
   "display_name": "base",
   "language": "python",
   "name": "python3"
  },
  "language_info": {
   "codemirror_mode": {
    "name": "ipython",
    "version": 3
   },
   "file_extension": ".py",
   "mimetype": "text/x-python",
   "name": "python",
   "nbconvert_exporter": "python",
   "pygments_lexer": "ipython3",
   "version": "3.12.4"
  }
 },
 "nbformat": 4,
 "nbformat_minor": 2
}
