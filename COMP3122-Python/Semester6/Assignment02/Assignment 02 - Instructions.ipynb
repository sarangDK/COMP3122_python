{
  "cells": [
    {
      "cell_type": "markdown",
      "metadata": {
        "id": "GdRF-CSJq5Yx"
      },
      "source": [
        "# Assignment 02\n",
        "The following assignment is a step-by-step process to implement a multiclass classification using Iris dataset.\n",
        "\n",
        "**Note:**\n",
        "\n",
        "- Please note that every question has 0.5 and it provides five out of total ten marks for the assignment. 5/10%\n",
        "\n",
        "The video presentation 5/10%.\n",
        "\n",
        "Without YouTube presentation you receive no mark for the submission.\n"
      ]
    },
    {
      "cell_type": "code",
      "execution_count": null,
      "metadata": {
        "id": "NpsNfbeiqtC-"
      },
      "outputs": [],
      "source": [
        "#00 The iris.csv file (Iris dataset) is located in the Assignment folder below the current ipynb file."
      ]
    },
    {
      "cell_type": "markdown",
      "metadata": {
        "id": "YjARgMOGP5W7"
      },
      "source": [
        " **Important Note:** We are NOT allowed to import the dataset from Keras. We need to upload the provided iris.csv file to colab from our Google Drive."
      ]
    },
    {
      "cell_type": "code",
      "execution_count": null,
      "metadata": {
        "id": "8cu01QQpGT32"
      },
      "outputs": [],
      "source": [
        "#00 1st, upload the iris.csv into your Google Drive (your Colab folder)."
      ]
    },
    {
      "cell_type": "code",
      "execution_count": null,
      "metadata": {
        "id": "-PrhESFFHEQc"
      },
      "outputs": [],
      "source": [
        "#01-a Find the path of iris.csv file, and save it in a variable called fileName."
      ]
    },
    {
      "cell_type": "code",
      "execution_count": null,
      "metadata": {
        "id": "5-1y84ZDG2PU"
      },
      "outputs": [
        {
          "name": "stdout",
          "output_type": "stream",
          "text": [
            "/Assignment_02_iris.csv\n"
          ]
        }
      ],
      "source": [
        "fileName = ''\n"
      ]
    },
    {
      "cell_type": "code",
      "execution_count": null,
      "metadata": {
        "id": "EpPebb_uHCcU"
      },
      "outputs": [],
      "source": [
        "#01-b Read the content of the iris.csv file and save it in a variable, named iris."
      ]
    },
    {
      "cell_type": "code",
      "execution_count": null,
      "metadata": {
        "id": "o-Wps1uaHt4H"
      },
      "outputs": [],
      "source": []
    },
    {
      "cell_type": "code",
      "execution_count": null,
      "metadata": {
        "id": "Z0cqURBWHowB"
      },
      "outputs": [],
      "source": []
    },
    {
      "cell_type": "code",
      "execution_count": null,
      "metadata": {
        "id": "4REixnacH0NT"
      },
      "outputs": [],
      "source": [
        "#01-c Show the first 5 rows of the dataframe."
      ]
    },
    {
      "cell_type": "code",
      "execution_count": null,
      "metadata": {
        "id": "M5oKPwinH_WM"
      },
      "outputs": [],
      "source": []
    },
    {
      "cell_type": "markdown",
      "metadata": {
        "id": "uPslwnx5VlhI"
      },
      "source": [
        "As you see, the last column contains strings. We want to convert these strings to integers,  and we can work with them easily in our Neural Network model.\n",
        "\n",
        "setosa -> 0\n",
        "\n",
        "versicolor -> 1\n",
        "\n",
        "virginica -> 2"
      ]
    },
    {
      "cell_type": "code",
      "execution_count": null,
      "metadata": {
        "id": "XaQ9lvJlW63F"
      },
      "outputs": [],
      "source": [
        "#2-a Convert the last column strings to integers, as \n",
        "# setosa -> 0\n",
        "# versicolor -> 1\n",
        "# virginica -> 2"
      ]
    },
    {
      "cell_type": "code",
      "execution_count": null,
      "metadata": {
        "id": "Ko7gGrfvXE5K"
      },
      "outputs": [],
      "source": []
    },
    {
      "cell_type": "code",
      "execution_count": null,
      "metadata": {
        "id": "XAyTi33hXUEX"
      },
      "outputs": [],
      "source": []
    },
    {
      "cell_type": "code",
      "execution_count": null,
      "metadata": {
        "id": "LtRXugkCXVmm"
      },
      "outputs": [],
      "source": [
        "#2-b Now, check the first 5 elements of the iris dataset once again:"
      ]
    },
    {
      "cell_type": "code",
      "execution_count": null,
      "metadata": {
        "id": "Vpzx6GfcXWIT"
      },
      "outputs": [],
      "source": []
    },
    {
      "cell_type": "code",
      "execution_count": null,
      "metadata": {
        "id": "QVQ8ZY8DIAmE"
      },
      "outputs": [],
      "source": [
        "#03-a Select the first four columns of the dataframe as the Data and call the data x."
      ]
    },
    {
      "cell_type": "code",
      "execution_count": null,
      "metadata": {
        "id": "QJzxWYKBVPMD"
      },
      "outputs": [],
      "source": []
    },
    {
      "cell_type": "code",
      "execution_count": null,
      "metadata": {
        "id": "ZfFlo9wlVRp_"
      },
      "outputs": [],
      "source": [
        "#03-b Select the last column as the label and call it y."
      ]
    },
    {
      "cell_type": "code",
      "execution_count": null,
      "metadata": {
        "id": "f9CqfICuVZHu"
      },
      "outputs": [],
      "source": []
    },
    {
      "cell_type": "code",
      "execution_count": null,
      "metadata": {
        "id": "zoNx--BaVa5D"
      },
      "outputs": [],
      "source": [
        "#04 Now, it is the time to split the data (x) and the label (y) into training and testin segments, \n",
        "#   and call them parts x_train,x_test,y_train,y_test."
      ]
    },
    {
      "cell_type": "code",
      "execution_count": null,
      "metadata": {
        "id": "EVywDl4cYB98"
      },
      "outputs": [],
      "source": [
        "#04-a Split the data, and label ito training and testing segments, while the size of test data is 20%,\n",
        "#     and use randome_state = 123 to make all the answers similar in the whole class."
      ]
    },
    {
      "cell_type": "code",
      "execution_count": null,
      "metadata": {
        "id": "FutX0zffZcMC"
      },
      "outputs": [],
      "source": []
    },
    {
      "cell_type": "code",
      "execution_count": null,
      "metadata": {
        "id": "XYRLG2c8ZdqQ"
      },
      "outputs": [],
      "source": []
    },
    {
      "cell_type": "code",
      "execution_count": null,
      "metadata": {
        "id": "KaJUAiuTZgoe"
      },
      "outputs": [],
      "source": [
        "#04-b Check the first five rows of  x_train,x_test,y_train,y_test."
      ]
    },
    {
      "cell_type": "code",
      "execution_count": null,
      "metadata": {
        "id": "Tol7L4eyZyc0"
      },
      "outputs": [],
      "source": []
    },
    {
      "cell_type": "code",
      "execution_count": null,
      "metadata": {
        "id": "avm95SyVZ0K9"
      },
      "outputs": [],
      "source": []
    },
    {
      "cell_type": "code",
      "execution_count": null,
      "metadata": {
        "id": "zoGgPpQnZ3N0"
      },
      "outputs": [],
      "source": []
    },
    {
      "cell_type": "code",
      "execution_count": null,
      "metadata": {
        "id": "iDabPofuZ5SO"
      },
      "outputs": [],
      "source": []
    },
    {
      "cell_type": "code",
      "execution_count": null,
      "metadata": {
        "id": "wUHaE8fJbg8w"
      },
      "outputs": [],
      "source": [
        "#04-c Check the length of the x_train and x_test. If the numbers are 120 & 30, AWESOME! \n",
        "#     You are good to continue!"
      ]
    },
    {
      "cell_type": "code",
      "execution_count": null,
      "metadata": {
        "id": "k_-kNMocbgsv"
      },
      "outputs": [],
      "source": []
    },
    {
      "cell_type": "code",
      "execution_count": null,
      "metadata": {
        "id": "GgEi1h-rbgcM"
      },
      "outputs": [],
      "source": []
    },
    {
      "cell_type": "code",
      "execution_count": null,
      "metadata": {
        "id": "tEdcdmEWZ6W-"
      },
      "outputs": [],
      "source": [
        "#05-a Convert y_train and y_test from categorical to one-hot encoded values, and call them\n",
        "#     one_hot_train_labels, and one_hot_test_labels, respectively."
      ]
    },
    {
      "cell_type": "code",
      "execution_count": null,
      "metadata": {
        "id": "fVJ8Kn4kbXBF"
      },
      "outputs": [],
      "source": []
    },
    {
      "cell_type": "code",
      "execution_count": null,
      "metadata": {
        "id": "QL4-xxR9bZP1"
      },
      "outputs": [],
      "source": [
        "#06-a Define a sequential model that contains 3 dense layers.\n",
        "#     In the first and second layers, use 100 hidden units (neurons) and a 'relu' activation function.\n",
        "#     For the last layer, we need to use 3 as the number of output, \n",
        "#     and the reason is we have three classes (setosa -> 0, versicolor -> 1, virginica -> 2)\n",
        "#     Also, please pick an appropriate loss function for the last layer. \n",
        "#     (You may already have guessed what could be the best loss function when we have converted the categorical values to encoded values.)"
      ]
    },
    {
      "cell_type": "code",
      "execution_count": null,
      "metadata": {
        "id": "6l5Rqmy3uPbu"
      },
      "outputs": [],
      "source": []
    },
    {
      "cell_type": "code",
      "execution_count": null,
      "metadata": {
        "id": "GCtYDS08wZY_"
      },
      "outputs": [],
      "source": [
        "#06-b Now, compile your model using the 'rmsprop' optimizer, an appropriate loss function, and 'accuracy' for your metrics."
      ]
    },
    {
      "cell_type": "code",
      "execution_count": null,
      "metadata": {
        "id": "P8xNko36wx2d"
      },
      "outputs": [],
      "source": []
    },
    {
      "cell_type": "code",
      "execution_count": null,
      "metadata": {
        "id": "RziNJNwWwz2r"
      },
      "outputs": [],
      "source": [
        "#07-a Train your model using epoch=20, batch=10."
      ]
    },
    {
      "cell_type": "code",
      "execution_count": null,
      "metadata": {
        "id": "oALCvb_SxD4_"
      },
      "outputs": [],
      "source": []
    },
    {
      "cell_type": "code",
      "execution_count": null,
      "metadata": {
        "id": "iJJ4tXQxxEWc"
      },
      "outputs": [],
      "source": [
        "#08-a Calculate the result, evaluating x_test and one_hot_test_label, and report on the accuracy of your model."
      ]
    },
    {
      "cell_type": "code",
      "execution_count": null,
      "metadata": {
        "id": "GfnYWxMcxY5F"
      },
      "outputs": [],
      "source": []
    },
    {
      "cell_type": "code",
      "execution_count": null,
      "metadata": {
        "id": "mf9Sc3XCxbFV"
      },
      "outputs": [],
      "source": [
        "#09-a Now, we repeat all we have done in #06-a with the following parameters:\n",
        "#     In the first and second hidden layers, use 10 hidden units (neurons) and a 'relu' activation function.\n",
        "#     For the output layer, we need to use 3. "
      ]
    },
    {
      "cell_type": "code",
      "execution_count": null,
      "metadata": {
        "id": "7a9aqyMwx0SF"
      },
      "outputs": [],
      "source": []
    },
    {
      "cell_type": "code",
      "execution_count": null,
      "metadata": {
        "id": "XlXCDQ7gx8FM"
      },
      "outputs": [],
      "source": [
        "#09-b Use the same settings as for #06-b (compile using the same optimizer, loss function) and output the accuracy"
      ]
    },
    {
      "cell_type": "code",
      "execution_count": null,
      "metadata": {
        "id": "HHiCnVpIyFs9"
      },
      "outputs": [],
      "source": []
    },
    {
      "cell_type": "code",
      "execution_count": null,
      "metadata": {
        "id": "60JPnxqvyQb0"
      },
      "outputs": [],
      "source": [
        "#09-c Please fit your model using epoch=4, batch=10."
      ]
    },
    {
      "cell_type": "code",
      "execution_count": null,
      "metadata": {
        "id": "y-RKym7uyaG0"
      },
      "outputs": [],
      "source": []
    },
    {
      "cell_type": "code",
      "execution_count": null,
      "metadata": {
        "id": "InudSE3fychb"
      },
      "outputs": [],
      "source": [
        "#09-d Calculate the result, evaluating x_test and one_hot_test_label, and report on the accuracy of your model."
      ]
    },
    {
      "cell_type": "code",
      "execution_count": null,
      "metadata": {
        "id": "23Lr2veHyxUU"
      },
      "outputs": [],
      "source": []
    },
    {
      "cell_type": "code",
      "execution_count": null,
      "metadata": {
        "id": "ov5UKqtuyzvb"
      },
      "outputs": [],
      "source": [
        "#10-a In your video submission, explain each line of your code, and the arguments you've used\n",
        "# Ensure to answer the following questions at a minimum:\n",
        "# 10-a-i) How the number of layers or hidden units could impact the accuracy of our model.\n",
        "# 10-a-ii) Do we always suffer from overfitting?\n",
        "# 10-a-iii) How can we detect overfitting?\n",
        "# 10-a-iv) How can we reduce overfitting?"
      ]
    },
    {
      "cell_type": "code",
      "execution_count": null,
      "metadata": {
        "id": "wjl8cvkazc_p"
      },
      "outputs": [],
      "source": [
        "#10-b\n",
        "# Use different settings than the ones we chose in #09\n",
        "# Change each of the following once:\n",
        "#   i)   optimizer\n",
        "#   ii)  number of layers\n",
        "#   iii) hidden units\n",
        "#   iv)  number of epochs\n",
        "#   v)   batch_size\n",
        "# Change one parameter at a time, and rerun the cell(s), then explain the output"
      ]
    },
    {
      "cell_type": "markdown",
      "metadata": {
        "id": "N5b2shyIdhiv"
      },
      "source": [
        "---\n",
        "# Deliverables:\n",
        "1. Submit the current ipynb file on D2L\n",
        "2. Please record and upload to YouTube 3-6 minute recorded video clip (aim for 5 minutes) describing the answers to the questions above, espcially #10. \n",
        "\n",
        "Notes: \n",
        "- In your submission, YOU MUST SUBMIT A LINK TO YOUR YOUTUBE VIDEO as a TEXT SUBMISSION SECTION on your D2L submission. \n",
        "- Omitting this D2L comment will result in a 0% for your total mark."
      ]
    }
  ],
  "metadata": {
    "colab": {
      "provenance": []
    },
    "kernelspec": {
      "display_name": "Python 3",
      "name": "python3"
    },
    "language_info": {
      "codemirror_mode": {
        "name": "ipython",
        "version": 3
      },
      "file_extension": ".py",
      "mimetype": "text/x-python",
      "name": "python",
      "nbconvert_exporter": "python",
      "pygments_lexer": "ipython3",
      "version": "3.9.6"
    }
  },
  "nbformat": 4,
  "nbformat_minor": 0
}
