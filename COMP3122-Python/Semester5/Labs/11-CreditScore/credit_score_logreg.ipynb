{
 "cells": [
  {
   "cell_type": "code",
   "execution_count": 59,
   "metadata": {},
   "outputs": [],
   "source": [
    "import numpy as np  # Is a dependency for many of our other libraries \n",
    "# It is still useful for np,sort() -> to sort the values in an array\n",
    "import pandas as pd\n",
    "import matplotlib.pyplot as plt\n",
    "from sklearn.metrics import accuracy_score\n",
    "\n",
    "import seaborn as sns # Datasets for use with Pandas Dataframe\n",
    "import sklearn\n",
    "from sklearn.linear_model import LogisticRegression\n",
    "from sklearn.model_selection import GridSearchCV # it allows us to define a grid of parameters that will be searched using K-fold cross-validation\n",
    "from sklearn.model_selection import train_test_split\n",
    "from sklearn.metrics import precision_score, recall_score, f1_score # \n",
    "from sklearn.metrics import confusion_matrix\n",
    "#import compute class weight\n"
   ]
  },
  {
   "cell_type": "markdown",
   "metadata": {},
   "source": [
    "## Data description\n",
    "\n",
    "This exercise is based on subset of data for the [\"Give Me Some Credit\" Kaggle competition] (https://www.kaggle.com/c/GiveMeSomeCredit), follow this link and take a look at the competition description.\n",
    "\n",
    "### Getting the data\n",
    "Dowload the data file called `credit_scoring_sample.csv` from https://github.com/Yorko/mlcourse.ai/tree/master/data\n",
    "\n",
    "\n",
    "### Data columns\n",
    "Not all of these columns are present in the sample data we user for this exercise\n",
    "\n",
    " - **SeriousDlqin2yrs** (prediction target) - Person experienced 90 days past due delinquency or worse \n",
    " - **RevolvingUtilizationOfUnsecuredLines** - Total balance on credit cards and personal lines of credit except real estate and no installment debt like car loans divided by the sum of credit limits\n",
    " - **age** - Age of borrower in years\n",
    " - **DebtRatio** - Monthly debt payments, alimony, living costs divided by monthly gross income\n",
    " - **MonthlyIncome** - Monthly income\n",
    " - **NumberOfOpenCreditLinesAndLoans** - Number of Open loans (installment like car loan or mortgage) and Lines of credit (e.g. credit cards)\n",
    " - **NumberRealEstateLoansOrLines** - Number of mortgage and real estate loans including home equity lines of credit\n",
    " - **NumberOfDependents** - Number of dependents in family excluding themselves (spouse, children etc.)\n",
    " - **NumberOfTimes90DaysLate** - Number of times borrower has been 90 days or more past due.\n",
    " - **NumberOfTime60-89DaysPastDueNotWorse**\t - Number of times borrower has been 60-89 days past due but no worse in the last 2 years.\n",
    " - **NumberOfTime30-59DaysPastDueNotWorse** - Number of times borrower has been 30-59 days past due but no worse in the last 2 years.\n"
   ]
  },
  {
   "cell_type": "code",
   "execution_count": 60,
   "metadata": {},
   "outputs": [],
   "source": [
    "df = pd.read_csv('credit_scoring_sample.csv', sep=';')"
   ]
  },
  {
   "cell_type": "code",
   "execution_count": 61,
   "metadata": {},
   "outputs": [
    {
     "data": {
      "text/html": [
       "<div>\n",
       "<style scoped>\n",
       "    .dataframe tbody tr th:only-of-type {\n",
       "        vertical-align: middle;\n",
       "    }\n",
       "\n",
       "    .dataframe tbody tr th {\n",
       "        vertical-align: top;\n",
       "    }\n",
       "\n",
       "    .dataframe thead th {\n",
       "        text-align: right;\n",
       "    }\n",
       "</style>\n",
       "<table border=\"1\" class=\"dataframe\">\n",
       "  <thead>\n",
       "    <tr style=\"text-align: right;\">\n",
       "      <th></th>\n",
       "      <th>0</th>\n",
       "      <th>1</th>\n",
       "      <th>2</th>\n",
       "      <th>3</th>\n",
       "      <th>4</th>\n",
       "    </tr>\n",
       "  </thead>\n",
       "  <tbody>\n",
       "    <tr>\n",
       "      <th>SeriousDlqin2yrs</th>\n",
       "      <td>0.000000</td>\n",
       "      <td>0.0</td>\n",
       "      <td>0.000000</td>\n",
       "      <td>0.00000</td>\n",
       "      <td>1.00000</td>\n",
       "    </tr>\n",
       "    <tr>\n",
       "      <th>age</th>\n",
       "      <td>64.000000</td>\n",
       "      <td>58.0</td>\n",
       "      <td>41.000000</td>\n",
       "      <td>43.00000</td>\n",
       "      <td>49.00000</td>\n",
       "    </tr>\n",
       "    <tr>\n",
       "      <th>NumberOfTime30-59DaysPastDueNotWorse</th>\n",
       "      <td>0.000000</td>\n",
       "      <td>0.0</td>\n",
       "      <td>0.000000</td>\n",
       "      <td>0.00000</td>\n",
       "      <td>0.00000</td>\n",
       "    </tr>\n",
       "    <tr>\n",
       "      <th>DebtRatio</th>\n",
       "      <td>0.249908</td>\n",
       "      <td>3870.0</td>\n",
       "      <td>0.456127</td>\n",
       "      <td>0.00019</td>\n",
       "      <td>0.27182</td>\n",
       "    </tr>\n",
       "    <tr>\n",
       "      <th>NumberOfTimes90DaysLate</th>\n",
       "      <td>0.000000</td>\n",
       "      <td>0.0</td>\n",
       "      <td>0.000000</td>\n",
       "      <td>0.00000</td>\n",
       "      <td>0.00000</td>\n",
       "    </tr>\n",
       "    <tr>\n",
       "      <th>NumberOfTime60-89DaysPastDueNotWorse</th>\n",
       "      <td>0.000000</td>\n",
       "      <td>0.0</td>\n",
       "      <td>0.000000</td>\n",
       "      <td>0.00000</td>\n",
       "      <td>0.00000</td>\n",
       "    </tr>\n",
       "    <tr>\n",
       "      <th>MonthlyIncome</th>\n",
       "      <td>8158.000000</td>\n",
       "      <td>NaN</td>\n",
       "      <td>6666.000000</td>\n",
       "      <td>10500.00000</td>\n",
       "      <td>400.00000</td>\n",
       "    </tr>\n",
       "    <tr>\n",
       "      <th>NumberOfDependents</th>\n",
       "      <td>0.000000</td>\n",
       "      <td>0.0</td>\n",
       "      <td>0.000000</td>\n",
       "      <td>2.00000</td>\n",
       "      <td>0.00000</td>\n",
       "    </tr>\n",
       "  </tbody>\n",
       "</table>\n",
       "</div>"
      ],
      "text/plain": [
       "                                                0       1            2  \\\n",
       "SeriousDlqin2yrs                         0.000000     0.0     0.000000   \n",
       "age                                     64.000000    58.0    41.000000   \n",
       "NumberOfTime30-59DaysPastDueNotWorse     0.000000     0.0     0.000000   \n",
       "DebtRatio                                0.249908  3870.0     0.456127   \n",
       "NumberOfTimes90DaysLate                  0.000000     0.0     0.000000   \n",
       "NumberOfTime60-89DaysPastDueNotWorse     0.000000     0.0     0.000000   \n",
       "MonthlyIncome                         8158.000000     NaN  6666.000000   \n",
       "NumberOfDependents                       0.000000     0.0     0.000000   \n",
       "\n",
       "                                                3          4  \n",
       "SeriousDlqin2yrs                          0.00000    1.00000  \n",
       "age                                      43.00000   49.00000  \n",
       "NumberOfTime30-59DaysPastDueNotWorse      0.00000    0.00000  \n",
       "DebtRatio                                 0.00019    0.27182  \n",
       "NumberOfTimes90DaysLate                   0.00000    0.00000  \n",
       "NumberOfTime60-89DaysPastDueNotWorse      0.00000    0.00000  \n",
       "MonthlyIncome                         10500.00000  400.00000  \n",
       "NumberOfDependents                        2.00000    0.00000  "
      ]
     },
     "execution_count": 61,
     "metadata": {},
     "output_type": "execute_result"
    }
   ],
   "source": [
    "df.head().T # Formatted version so we can visualize the data more easily\n"
   ]
  },
  {
   "cell_type": "markdown",
   "metadata": {},
   "source": [
    "#### How many columns and samples do we have in this dataset?"
   ]
  },
  {
   "cell_type": "code",
   "execution_count": 62,
   "metadata": {},
   "outputs": [
    {
     "data": {
      "text/plain": [
       "(45063, 8)"
      ]
     },
     "execution_count": 62,
     "metadata": {},
     "output_type": "execute_result"
    }
   ],
   "source": [
    "# How many rows and columns are in the dataset?\n",
    "df.shape"
   ]
  },
  {
   "cell_type": "markdown",
   "metadata": {},
   "source": [
    "#### How many people in this dataset had serious delinquency?\n",
    " - It's the first column `SeriousDlqin2yrs`\n",
    " - This is the column we will be trying to predict today"
   ]
  },
  {
   "cell_type": "code",
   "execution_count": 63,
   "metadata": {},
   "outputs": [],
   "source": [
    "dlqCounts = df[\"SeriousDlqin2yrs\"].value_counts()"
   ]
  },
  {
   "cell_type": "markdown",
   "metadata": {},
   "source": [
    "#### Plot the bar chart of the SeriousDlqin2yrs column showing the number of people with serious delinquency (`label 1`) and those without (`label 0`)"
   ]
  },
  {
   "cell_type": "code",
   "execution_count": 64,
   "metadata": {},
   "outputs": [
    {
     "data": {
      "text/plain": [
       "<Axes: xlabel='SeriousDlqin2yrs'>"
      ]
     },
     "execution_count": 64,
     "metadata": {},
     "output_type": "execute_result"
    },
    {
     "data": {
      "image/png": "[encoded data removed]",
      "text/plain": [
       "<Figure size 640x480 with 1 Axes>"
      ]
     },
     "metadata": {},
     "output_type": "display_data"
    }
   ],
   "source": [
    "dlqCounts.plot(kind='bar') \n",
    " # In matplotlib hist() for a histogram / bar graph"
   ]
  },
  {
   "cell_type": "markdown",
   "metadata": {},
   "source": [
    "#### The bar chart shows that the data is imbalaced. That is the number of people with serious delinquency is much less than those without.\n",
    "\n",
    "<img src=\"./assets/unbalanced.webp\" width=\"600\" hight=\"300\" /> "
   ]
  },
  {
   "cell_type": "markdown",
   "metadata": {},
   "source": [
    "#### What accuracy score would you expect from the optimistic classifier that expects no delinquency at all?\n",
    " - This is our `dummy` classifier that predicts 0 for all samples\n",
    " - This is called the Null accuracy\n",
    " - Verify that accuracy score using the `accuracy_score()` function\n"
   ]
  },
  {
   "cell_type": "code",
   "execution_count": 65,
   "metadata": {},
   "outputs": [
    {
     "name": "stdout",
     "output_type": "stream",
     "text": [
      "77.75114839225084%\n"
     ]
    }
   ],
   "source": [
    "y_pred = [0] * len(df)\n",
    "# Print (y_pred)\n",
    "\n",
    "y_actual = df.SeriousDlqin2yrs\n",
    "accuracy_resulted = accuracy_score(y_actual, y_pred) * 100\n",
    "print(str(accuracy_resulted) + \"%\")"
   ]
  },
  {
   "cell_type": "markdown",
   "metadata": {},
   "source": [
    "#### Calculate the precision, recall and F1 score of the optimistic classifier"
   ]
  },
  {
   "cell_type": "markdown",
   "metadata": {},
   "source": [
    "### Precision - precision_score(실제값 예측값)\n",
    "precision_score(실제값, 예측값) 을 비교하여 정밀도를 계산합니다 \n",
    "정밀도는 예측한 양성 샘플중 실제로 양성인 샘플의 비율을 나타냅니다 - * 100 정밀도를 백분율로 변환합니다\n",
    "\n",
    "### recall - recall_score(실제값 예측값)\n",
    "재현율은 실제 양성 샘플중에서 예측이 양성인 샘플의 비율을 나타냅니다 \n",
    "\n",
    "### f1_score(실제값, 예측값) \n",
    "f1 점수는 정밀도와 재현율의 조화 평균으로 두 지표의 균형을 평가합니다"
   ]
  },
  {
   "cell_type": "code",
   "execution_count": 66,
   "metadata": {},
   "outputs": [
    {
     "name": "stdout",
     "output_type": "stream",
     "text": [
      "100.0\n",
      "0.0\n",
      "0.0\n"
     ]
    }
   ],
   "source": [
    "precision_resulted = precision_score(y_actual, y_pred, zero_division=True) * 100 # zero_division=True -> to avoid division by zero\n",
    "print(precision_resulted)\n",
    "recall_resulted = recall_score(y_actual, y_pred) * 100\n",
    "print(recall_resulted)\n",
    "f1_score_resulted = f1_score(y_actual, y_pred) * 100\n",
    "print(f1_score_resulted)\n",
    "\n",
    "\n",
    "\n",
    "# Advantage of using precision, recall and F1 compared to accuracy:\n",
    "# TODO : Required Homework - Look lecture notes "
   ]
  },
  {
   "cell_type": "markdown",
   "metadata": {},
   "source": [
    "#### Are there any columns with missing (NaN) values?\n",
    "Hint: isnull()"
   ]
  },
  {
   "cell_type": "code",
   "execution_count": 67,
   "metadata": {},
   "outputs": [
    {
     "name": "stdout",
     "output_type": "stream",
     "text": [
      "       SeriousDlqin2yrs    age  NumberOfTime30-59DaysPastDueNotWorse  \\\n",
      "0                 False  False                                 False   \n",
      "1                 False  False                                 False   \n",
      "2                 False  False                                 False   \n",
      "3                 False  False                                 False   \n",
      "4                 False  False                                 False   \n",
      "...                 ...    ...                                   ...   \n",
      "45058             False  False                                 False   \n",
      "45059             False  False                                 False   \n",
      "45060             False  False                                 False   \n",
      "45061             False  False                                 False   \n",
      "45062             False  False                                 False   \n",
      "\n",
      "       DebtRatio  NumberOfTimes90DaysLate  \\\n",
      "0          False                    False   \n",
      "1          False                    False   \n",
      "2          False                    False   \n",
      "3          False                    False   \n",
      "4          False                    False   \n",
      "...          ...                      ...   \n",
      "45058      False                    False   \n",
      "45059      False                    False   \n",
      "45060      False                    False   \n",
      "45061      False                    False   \n",
      "45062      False                    False   \n",
      "\n",
      "       NumberOfTime60-89DaysPastDueNotWorse  MonthlyIncome  NumberOfDependents  \n",
      "0                                     False          False               False  \n",
      "1                                     False           True               False  \n",
      "2                                     False          False               False  \n",
      "3                                     False          False               False  \n",
      "4                                     False          False               False  \n",
      "...                                     ...            ...                 ...  \n",
      "45058                                 False          False               False  \n",
      "45059                                 False          False               False  \n",
      "45060                                 False          False               False  \n",
      "45061                                 False          False               False  \n",
      "45062                                 False          False               False  \n",
      "\n",
      "[45063 rows x 8 columns]\n",
      "SeriousDlqin2yrs                           0\n",
      "age                                        0\n",
      "NumberOfTime30-59DaysPastDueNotWorse       0\n",
      "DebtRatio                                  0\n",
      "NumberOfTimes90DaysLate                    0\n",
      "NumberOfTime60-89DaysPastDueNotWorse       0\n",
      "MonthlyIncome                           8643\n",
      "NumberOfDependents                      1117\n",
      "dtype: int64\n"
     ]
    }
   ],
   "source": [
    "whichIsNull = df.isnull()   # This muste return boolean\n",
    "print(whichIsNull)\n",
    "\n",
    "# Check How many have null values? \n",
    "numOfNullCells = whichIsNull.sum()\n",
    "print(numOfNullCells)"
   ]
  },
  {
   "cell_type": "markdown",
   "metadata": {},
   "source": [
    "#### Fill in all the missing values using the median value of the corresponding column\n",
    "Hint: fillna()"
   ]
  },
  {
   "cell_type": "code",
   "execution_count": 68,
   "metadata": {},
   "outputs": [
    {
     "data": {
      "text/plain": [
       "SeriousDlqin2yrs                        0\n",
       "age                                     0\n",
       "NumberOfTime30-59DaysPastDueNotWorse    0\n",
       "DebtRatio                               0\n",
       "NumberOfTimes90DaysLate                 0\n",
       "NumberOfTime60-89DaysPastDueNotWorse    0\n",
       "MonthlyIncome                           0\n",
       "NumberOfDependents                      0\n",
       "dtype: int64"
      ]
     },
     "execution_count": 68,
     "metadata": {},
     "output_type": "execute_result"
    }
   ],
   "source": [
    "replacement = {\"MonthlyIncome\": df.MonthlyIncome.median(),\n",
    "               \"NumberOfDependents\" : df.NumberOfDependents.median()} \n",
    "df.fillna(replacement, inplace=True)\n",
    "df.isnull().sum() # Double check after the replacement if you still have null values\n"
   ]
  },
  {
   "cell_type": "markdown",
   "metadata": {},
   "source": [
    "#### Define X and y to experiment with some classifiers below"
   ]
  },
  {
   "cell_type": "code",
   "execution_count": 69,
   "metadata": {},
   "outputs": [
    {
     "name": "stdout",
     "output_type": "stream",
     "text": [
      "['age', 'NumberOfTime30-59DaysPastDueNotWorse', 'DebtRatio', 'NumberOfTimes90DaysLate', 'NumberOfTime60-89DaysPastDueNotWorse', 'MonthlyIncome', 'NumberOfDependents']\n"
     ]
    }
   ],
   "source": [
    "# We will be using all the columns except the target to base our preidctions on # Feature engineering - ALl we've done is choose all features\n",
    "# This is the list of the columns\n",
    "features_chosen = df.columns[1:].tolist()\n",
    "print(features_chosen)"
   ]
  },
  {
   "cell_type": "code",
   "execution_count": 70,
   "metadata": {},
   "outputs": [
    {
     "name": "stdout",
     "output_type": "stream",
     "text": [
      "       age  NumberOfTime30-59DaysPastDueNotWorse    DebtRatio  \\\n",
      "0       64                                     0     0.249908   \n",
      "1       58                                     0  3870.000000   \n",
      "2       41                                     0     0.456127   \n",
      "3       43                                     0     0.000190   \n",
      "4       49                                     0     0.271820   \n",
      "...    ...                                   ...          ...   \n",
      "45058   31                                     0     0.824725   \n",
      "45059   49                                     0  6530.000000   \n",
      "45060   38                                     0     0.475841   \n",
      "45061   47                                     1     0.485198   \n",
      "45062   45                                     2     0.802982   \n",
      "\n",
      "       NumberOfTimes90DaysLate  NumberOfTime60-89DaysPastDueNotWorse  \\\n",
      "0                            0                                     0   \n",
      "1                            0                                     0   \n",
      "2                            0                                     0   \n",
      "3                            0                                     0   \n",
      "4                            0                                     0   \n",
      "...                        ...                                   ...   \n",
      "45058                        0                                     0   \n",
      "45059                        0                                     0   \n",
      "45060                        0                                     0   \n",
      "45061                        0                                     0   \n",
      "45062                        0                                     0   \n",
      "\n",
      "       MonthlyIncome  NumberOfDependents  \n",
      "0             8158.0                 0.0  \n",
      "1             5166.0                 0.0  \n",
      "2             6666.0                 0.0  \n",
      "3            10500.0                 2.0  \n",
      "4              400.0                 0.0  \n",
      "...              ...                 ...  \n",
      "45058         3000.0                 1.0  \n",
      "45059            0.0                 5.0  \n",
      "45060         3000.0                 2.0  \n",
      "45061        11720.0                 5.0  \n",
      "45062         9120.0                 2.0  \n",
      "\n",
      "[45063 rows x 7 columns]\n",
      "0        0\n",
      "1        0\n",
      "2        0\n",
      "3        0\n",
      "4        1\n",
      "        ..\n",
      "45058    1\n",
      "45059    0\n",
      "45060    1\n",
      "45061    0\n",
      "45062    1\n",
      "Name: SeriousDlqin2yrs, Length: 45063, dtype: int64\n"
     ]
    }
   ],
   "source": [
    "X = df[features_chosen] # Use the list of feature names to cut only the feature columns and save into X\n",
    "print(X)\n",
    "y = df.SeriousDlqin2yrs  # We purposefully needed to choose the label/answer. Note : THis was not automatcially the first column in our dataset\n",
    "print(y)\n"
   ]
  },
  {
   "cell_type": "markdown",
   "metadata": {},
   "source": [
    "#### Train a LogesticRegression model using ALL the data and find the accuracy_score\n",
    "#### Set `max_iter=1000` in the LogisticRegression constructor to avoid a warning message\n",
    "\n",
    "\n",
    "#### Call this model as `base model`"
   ]
  },
  {
   "cell_type": "markdown",
   "metadata": {},
   "source": [
    "Hint: There is no need to split the data"
   ]
  },
  {
   "cell_type": "code",
   "execution_count": null,
   "metadata": {},
   "outputs": [
    {
     "name": "stdout",
     "output_type": "stream",
     "text": [
      "80.02352262388212%\n"
     ]
    }
   ],
   "source": [
    "model_base = LogisticRegression(max_iter=1000)\n",
    "# Train the model using the data\n",
    "model_base.fit(X, y)\n",
    "\n",
    "#  Test the model\n",
    "y_pred_base = model_base.predict(X)\n",
    "# 학습된 모델을 사용하여 입력데이터 x에 대한 예측을 수행합니다. 예측결과는 y_pred_base에 저장됩니다\n",
    "accuracy_result =  accuracy_score(y, y_pred_base) * 100\n",
    "\n",
    "# 실제 타켓 레이블 y와 예측된 레이블 y_pred_base를 비교하여 정확도를 계산합니다. 정확도는 전체 샘플중에서 올바르게 예측된 샘플의 비율을 나타냅니다\n",
    "print(str(accuracy_result) + \"%\")"
   ]
  },
  {
   "cell_type": "markdown",
   "metadata": {},
   "source": [
    "#### How many people in the prediction has serious delinquency (`Label 1`)?"
   ]
  },
  {
   "cell_type": "code",
   "execution_count": 75,
   "metadata": {},
   "outputs": [
    {
     "name": "stdout",
     "output_type": "stream",
     "text": [
      "[0 0 0 ... 0 0 0]\n",
      "1924\n",
      "450\n"
     ]
    }
   ],
   "source": [
    "print(y_pred_base) # This is the predictiion of the model\n",
    "\n",
    "sum_del_preds = y_pred_base.sum()  # This is the sum of the predictions\n",
    "print(sum_del_preds)\n",
    "\n",
    "sum_non_dlq_preds = y_pred_base[y == 0].sum()  # this is the sum of the predictions where the actual value is 0\n",
    "print(sum_non_dlq_preds)"
   ]
  },
  {
   "cell_type": "markdown",
   "metadata": {},
   "source": [
    "#### How much better was the LogisticRegression model compared to the Null in terms of accuracy?"
   ]
  },
  {
   "cell_type": "code",
   "execution_count": null,
   "metadata": {},
   "outputs": [],
   "source": [
    " # 3% improvement \n"
   ]
  },
  {
   "cell_type": "markdown",
   "metadata": {},
   "source": [
    "#### Evaluate the base model using the confusion_matrix\n",
    "\n",
    "<img src=\"./assets/confusion_compatible.png\" width=\"600\" hight=\"300\" /> "
   ]
  },
  {
   "cell_type": "code",
   "execution_count": 76,
   "metadata": {},
   "outputs": [
    {
     "data": {
      "text/plain": [
       "array([[34587,   450],\n",
       "       [ 8552,  1474]], dtype=int64)"
      ]
     },
     "execution_count": 76,
     "metadata": {},
     "output_type": "execute_result"
    }
   ],
   "source": [
    "confusion_matrix(y, y_pred_base)\n"
   ]
  },
  {
   "cell_type": "code",
   "execution_count": null,
   "metadata": {},
   "outputs": [],
   "source": []
  },
  {
   "cell_type": "markdown",
   "metadata": {},
   "source": [
    "#### Evaluate the base model using precision, recall and F1 score "
   ]
  },
  {
   "cell_type": "code",
   "execution_count": 77,
   "metadata": {},
   "outputs": [
    {
     "name": "stdout",
     "output_type": "stream",
     "text": [
      "precision : 76.61122661122661\n",
      "recall : 14.701775384001595\n",
      "f1_score : 24.669456066945607\n"
     ]
    }
   ],
   "source": [
    "precision_result = precision_score(y, y_pred_base) * 100\n",
    "print(f\"precision : {precision_result}\")\n",
    "recall_result = recall_score(y, y_pred_base) * 100\n",
    "print(f\"recall : {recall_result}\")\n",
    "f1_score_result = f1_score(y, y_pred_base) * 100\n",
    "print(f\"f1_score : {f1_score_result}\")"
   ]
  },
  {
   "cell_type": "code",
   "execution_count": null,
   "metadata": {},
   "outputs": [],
   "source": [
    "\n"
   ]
  },
  {
   "cell_type": "markdown",
   "metadata": {},
   "source": [
    "#### Running the logistic regression model with different `class_weight`\n",
    "\n",
    "#### For class 0 (no delinquency) set the weight to 1 and for class 1 (delinquency) set the weight to 2 - we give higher weight to the minority class\n",
    "\n",
    "\n",
    "#### Call this model as `model_weighted`\n"
   ]
  },
  {
   "cell_type": "code",
   "execution_count": 79,
   "metadata": {},
   "outputs": [
    {
     "name": "stdout",
     "output_type": "stream",
     "text": [
      "82.1583116969576%\n"
     ]
    },
    {
     "data": {
      "text/plain": [
       "Ellipsis"
      ]
     },
     "execution_count": 79,
     "metadata": {},
     "output_type": "execute_result"
    }
   ],
   "source": [
    "# Instead of using the default weights for the LG algorithm, we can use the class_weight parameter to assign weights to the classes\n",
    "model_weighted = LogisticRegression(max_iter=1000, class_weight={0: 1, 1: 2}) # Ml Parameters Art rather than science\n",
    "\n",
    "# Train\n",
    "model_weighted.fit(X, y)\n",
    "\n",
    "# Test\n",
    "y_pred_weighted = model_weighted.predict(X) # Don't want to give the answers to the prediction so that we can compare\n",
    "accuracy_result = accuracy_score(y, y_pred_weighted) * 100\n",
    "print(str(accuracy_result) + \"%\")\n",
    "..."
   ]
  },
  {
   "cell_type": "code",
   "execution_count": null,
   "metadata": {},
   "outputs": [],
   "source": []
  },
  {
   "cell_type": "markdown",
   "metadata": {},
   "source": [
    "#### Evaluate the weighted model using the confusion_matrix, precision, recall and F1 score"
   ]
  },
  {
   "cell_type": "code",
   "execution_count": 82,
   "metadata": {},
   "outputs": [
    {
     "data": {
      "text/plain": [
       "array([[33116,  1921],\n",
       "       [ 6119,  3907]], dtype=int64)"
      ]
     },
     "execution_count": 82,
     "metadata": {},
     "output_type": "execute_result"
    }
   ],
   "source": [
    "confusion_matrix(y, y_pred_weighted)"
   ]
  },
  {
   "cell_type": "code",
   "execution_count": 83,
   "metadata": {},
   "outputs": [
    {
     "name": "stdout",
     "output_type": "stream",
     "text": [
      "precision : 67.03843514070007\n",
      "recall : 38.96868142828646\n",
      "f1_score : 49.28724612085278\n"
     ]
    }
   ],
   "source": [
    "precision_result = precision_score(y, y_pred_weighted) * 100\n",
    "print(f\"precision : {precision_result}\")\n",
    "recall_result = recall_score(y, y_pred_weighted) * 100\n",
    "print(f\"recall : {recall_result}\")\n",
    "f1_score_result = f1_score(y, y_pred_weighted) * 100\n",
    "print(f\"f1_score : {f1_score_result}\")"
   ]
  },
  {
   "cell_type": "code",
   "execution_count": null,
   "metadata": {},
   "outputs": [],
   "source": []
  },
  {
   "cell_type": "markdown",
   "metadata": {},
   "source": [
    "#### Compare and Contrast the results of the `weighted model` with the `base model`"
   ]
  },
  {
   "cell_type": "code",
   "execution_count": null,
   "metadata": {},
   "outputs": [],
   "source": [
    "# Improvement ? Yes\n",
    "# Because we're seeing a bettwe representation of the less frequently occuring class"
   ]
  },
  {
   "cell_type": "markdown",
   "metadata": {},
   "source": [
    "#### Repeat the above with different values of `w` in the range between 1 and 10. Plot the accuracy score as a function of `w` label 1's weight\n"
   ]
  },
  {
   "cell_type": "code",
   "execution_count": null,
   "metadata": {},
   "outputs": [
    {
     "name": "stdout",
     "output_type": "stream",
     "text": [
      "[1, 2, 3, 4, 5, 6, 7, 8, 9]\n",
      "[0.8002352262388212, 0.821583116969576, 0.7840578745312119, 0.7118922397532343, 0.6378847391429776, 0.5738632581053192, 0.5205822958968556, 0.4734039012049797, 0.42855557774671016]\n"
     ]
    },
    {
     "data": {
      "text/plain": [
       "[<matplotlib.lines.Line2D at 0x21c46ea0230>]"
      ]
     },
     "execution_count": 84,
     "metadata": {},
     "output_type": "execute_result"
    },
    {
     "data": {
      "image/png": "[encoded data removed]",
      "text/plain": [
       "<Figure size 640x480 with 1 Axes>"
      ]
     },
     "metadata": {},
     "output_type": "display_data"
    }
   ],
   "source": [
    "# Use for.. in a loop in python over range 1-10\n",
    "weights = list(range(1, 10))  # Cast as list to put the values in a list\n",
    "\n",
    "# 가중치 리스트 생성 \n",
    "print(weights)\n",
    "accuracy_scores = []\n",
    "\n",
    "# This will likely be useful for you in the future to choose appropriate weights fro logistic Regression -- please review here\n",
    "\n",
    "for num1_10 in range(1, 10):\n",
    "  model_range_weighted = LogisticRegression(max_iter=1000, class_weight={0: 1, 1: num1_10})\n",
    "  model_range_weighted.fit(X, y)\n",
    "  # We could have calculated accuracy here directly, lets try mean accuracy instead -> method score() for logisticRegression class\n",
    "  mean_accuracy = model_range_weighted.score(X, y) # Unless the other metrics , you dont need to calculate pred yourself first - it can do it within the method \n",
    "  accuracy_scores.append(mean_accuracy)\n",
    "\n",
    "print(accuracy_scores)\n",
    "plt.plot(weights, accuracy_scores)\n"
   ]
  },
  {
   "cell_type": "markdown",
   "metadata": {},
   "source": [
    "#### Based on the plot of scores, what is the best value for label 1 weight?"
   ]
  },
  {
   "cell_type": "code",
   "execution_count": 85,
   "metadata": {},
   "outputs": [],
   "source": [
    "# Best value weight for deliquints = 2"
   ]
  },
  {
   "cell_type": "markdown",
   "metadata": {},
   "source": []
  },
  {
   "cell_type": "markdown",
   "metadata": {},
   "source": [
    "#### Scikit Learn also has a function called `compute_class_weight` that automatically computes the weights based on the class distribution. "
   ]
  },
  {
   "cell_type": "code",
   "execution_count": null,
   "metadata": {},
   "outputs": [
    {
     "data": {
      "text/plain": [
       "array([0.64307732, 2.247307  ])"
      ]
     },
     "execution_count": 86,
     "metadata": {},
     "output_type": "execute_result"
    }
   ],
   "source": [
    "from sklearn.utils.class_weight import compute_class_weight\n",
    "classes = np.array([0, 1])  # In the deliquints column we only have 0-not dlqn, 1-yes dlqn\n",
    "class_weights = compute_class_weight(class_weight='balanced', classes=classes, y=y)\n",
    "class_weights # We can see that it takes our origianl guess of 0:1 , 1:2 and makes it more specific 0:0.64, 1:2.24"
   ]
  },
  {
   "cell_type": "markdown",
   "metadata": {},
   "source": [
    "#### Make a logestic regression model with the computed class weights and evaluate it using the confusion_matrix, precision, recall and F1 score\n",
    "\n",
    "\n",
    "#### Call this model as `auto_weighted model`"
   ]
  },
  {
   "cell_type": "code",
   "execution_count": 89,
   "metadata": {},
   "outputs": [
    {
     "name": "stdout",
     "output_type": "stream",
     "text": [
      "74.99278787475312%\n"
     ]
    }
   ],
   "source": [
    "model_balanced = LogisticRegression(max_iter=1000, class_weight={0: class_weights[0], 1: class_weights[1]})\n",
    "model_balanced.fit(X, y)\n",
    "y_pred_balanced = model_balanced.predict(X)\n",
    "accuracy_result = accuracy_score(y, y_pred_balanced) * 100\n",
    "print(str(accuracy_result) + \"%\")"
   ]
  },
  {
   "cell_type": "code",
   "execution_count": 91,
   "metadata": {},
   "outputs": [
    {
     "name": "stdout",
     "output_type": "stream",
     "text": [
      "precision : 45.624780007039774\n",
      "recall : 64.64193097945342\n",
      "f1_score : 53.493458792455954\n"
     ]
    }
   ],
   "source": [
    "preceision_result = precision_score(y, y_pred_balanced) * 100\n",
    "print(f\"precision : {preceision_result}\")\n",
    "recall_result = recall_score(y, y_pred_balanced) * 100\n",
    "print(f\"recall : {recall_result}\")\n",
    "f1_score_result = f1_score(y, y_pred_balanced) * 100\n",
    "print(f\"f1_score : {f1_score_result}\")"
   ]
  },
  {
   "cell_type": "markdown",
   "metadata": {},
   "source": [
    "#### Compare and Contrast the results of the `auto_weighted model` with the `weighted model`"
   ]
  },
  {
   "cell_type": "code",
   "execution_count": null,
   "metadata": {},
   "outputs": [],
   "source": []
  },
  {
   "cell_type": "markdown",
   "metadata": {},
   "source": [
    "#### Which model has higher type 1 error? and which model has higher type 2 error?\n",
    "\n",
    "<img src=\"./assets/confusion_error_type.png\" width=\"600\" hight=\"300\" /> "
   ]
  },
  {
   "cell_type": "code",
   "execution_count": null,
   "metadata": {},
   "outputs": [],
   "source": [
    "# I.e. which predicted the most incorrect for the minority class\n",
    "# Answer : The first model (Recall was lowest)\n",
    "\n",
    "# which predicted the most incorrect for the majority class\n",
    "# Answer : The last model (Precision was lowest)"
   ]
  },
  {
   "cell_type": "markdown",
   "metadata": {},
   "source": [
    "#### If we want to give people very large amount of credit, which model should we use? and why?"
   ]
  },
  {
   "cell_type": "code",
   "execution_count": null,
   "metadata": {},
   "outputs": [],
   "source": [
    "# if we want to give people too much credit, which model should we sue?\n",
    "# Answer : The first model (Recall was highest)\n",
    "\n",
    "# if we want to give people an Appropriate amount of credit, which model should we use?\n",
    "# Answer : The last model (Precision was highest)"
   ]
  },
  {
   "cell_type": "markdown",
   "metadata": {},
   "source": [
    "#### Useful Resources to read about classification metrics\n",
    " - Use [Kavin Markham's notebook](https://github.com/justmarkham/scikit-learn-videos/blob/master/09_classification_metrics.ipynb) as reference"
   ]
  }
 ],
 "metadata": {
  "kernelspec": {
   "display_name": "base",
   "language": "python",
   "name": "python3"
  },
  "language_info": {
   "codemirror_mode": {
    "name": "ipython",
    "version": 3
   },
   "file_extension": ".py",
   "mimetype": "text/x-python",
   "name": "python",
   "nbconvert_exporter": "python",
   "pygments_lexer": "ipython3",
   "version": "3.12.4"
  }
 },
 "nbformat": 4,
 "nbformat_minor": 2
}
