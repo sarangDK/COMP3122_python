{
 "cells": [
  {
   "cell_type": "markdown",
   "metadata": {},
   "source": [
    "### Assignment 04 \n",
    "### Student Name: Daekyung park\n",
    "### Student Id: 101104521"
   ]
  },
  {
   "cell_type": "code",
   "execution_count": 34,
   "metadata": {},
   "outputs": [
    {
     "name": "stdout",
     "output_type": "stream",
     "text": [
      "   ID  Range  Value Type Zip Code Model   Cost      Continent\n",
      "0  10    192     50    F   NXEYEM  EX85  [56$]           Asia\n",
      "1  20    299     21    M   VNFKZD  CT41  [18$]           Asia\n",
      "2  30    378     28    X   IMGMFY  VN81  [90$]  North America\n"
     ]
    }
   ],
   "source": [
    "import pandas as pd\n",
    "import matplotlib.pyplot as plt\n",
    "\n",
    "\n",
    "myDF = pd.read_csv(\"assign04.csv\")\n",
    "\n",
    "\n",
    "# first three rows of the datafram\n",
    "print(myDF.head(3))"
   ]
  },
  {
   "cell_type": "code",
   "execution_count": 35,
   "metadata": {},
   "outputs": [
    {
     "name": "stdout",
     "output_type": "stream",
     "text": [
      "   ID  Range  Value Type Zip Code   Cost      Continent\n",
      "0  10    192     50    F   NXEYEM  [56$]           Asia\n",
      "1  20    299     21    M   VNFKZD  [18$]           Asia\n",
      "2  30    378     28    X   IMGMFY  [90$]  North America\n"
     ]
    }
   ],
   "source": [
    "# Drop \"Model\" column\n",
    "df_dropped_MODEL = myDF.drop(columns=['Model'])\n",
    "print(df_dropped_MODEL.head(3))\n"
   ]
  },
  {
   "cell_type": "code",
   "execution_count": 36,
   "metadata": {},
   "outputs": [
    {
     "name": "stdout",
     "output_type": "stream",
     "text": [
      "   ID  Range  Value Type Zip Code   Cost      Continent\n",
      "0  10    192     50    F   NXEYEM  [56$]           Asia\n",
      "1  20    299     21    M   VNFKZD  [18$]           Asia\n",
      "2  30    378     28    X   IMGMFY  [90$]  North America\n",
      "3  40    156     44    Q   RHRHJY  [89$]           Asia\n",
      "4  50    468     33    J   HPQCMC  [95$]         Africa\n"
     ]
    }
   ],
   "source": [
    "# Drop \"Model\" column permanently\n",
    "myDF = myDF.drop(columns=['Model'])\n",
    "print(myDF.head())"
   ]
  },
  {
   "cell_type": "code",
   "execution_count": 37,
   "metadata": {},
   "outputs": [
    {
     "name": "stdout",
     "output_type": "stream",
     "text": [
      "   ID  Range  Value Type Zip Code   Cost      Continent\n",
      "0  10    192     50    F   NXEYEM  [56$]           Asia\n",
      "2  30    378     28    X   IMGMFY  [90$]  North America\n",
      "4  50    468     33    J   HPQCMC  [95$]         Africa\n",
      "6  70    327     24    F   NLVQPY  [25$]         Europe\n"
     ]
    }
   ],
   "source": [
    "# drop the 1, 3 ,5 rows of the dataframe\n",
    "myDF.drop([1, 3, 5], inplace=True)\n",
    "print(myDF.head(4))"
   ]
  },
  {
   "cell_type": "code",
   "execution_count": 38,
   "metadata": {},
   "outputs": [
    {
     "name": "stdout",
     "output_type": "stream",
     "text": [
      "297.53326293558604\n"
     ]
    }
   ],
   "source": [
    "# Calculate the mean of the \"Range\" \n",
    "\n",
    "mean_range = myDF[\"Range\"].mean()\n",
    "print(mean_range)\n"
   ]
  },
  {
   "cell_type": "code",
   "execution_count": 39,
   "metadata": {},
   "outputs": [
    {
     "name": "stdout",
     "output_type": "stream",
     "text": [
      "50\n",
      "   ID  Range  Value Type Zip Code   Cost      Continent\n",
      "0  10    192     50  AAA   NXEYEM  [56$]           Asia\n",
      "2  30    378     28    X   IMGMFY  [90$]  North America\n",
      "4  50    468     33    J   HPQCMC  [95$]         Africa\n",
      "6  70    327     24  AAA   NLVQPY  [25$]         Europe\n",
      "7  80    495     50    Z   DLUMAX  [70$]     Antarctica\n"
     ]
    }
   ],
   "source": [
    "# Count how mnay F in the \"Type\" column\n",
    "\n",
    "how_many_F = (myDF[\"Type\"] == \"F\").sum()\n",
    "print(how_many_F)\n",
    "\n",
    "# Replace all \"F\" in the \"Type\" column with \"AAA\"\n",
    "myDF[\"Type\"] = myDF[\"Type\"].replace(\"F\", \"AAA\")\n",
    "print(myDF.head(5))"
   ]
  },
  {
   "cell_type": "code",
   "execution_count": 40,
   "metadata": {},
   "outputs": [
    {
     "name": "stdout",
     "output_type": "stream",
     "text": [
      "   ID  Range  Value Type Zip Code Cost      Continent\n",
      "0  10    192     50  AAA   NXEYEM   56           Asia\n",
      "2  30    378     28    X   IMGMFY   90  North America\n",
      "4  50    468     33    J   HPQCMC   95         Africa\n",
      "6  70    327     24  AAA   NLVQPY   25         Europe\n",
      "7  80    495     50    Z   DLUMAX   70     Antarctica\n"
     ]
    },
    {
     "name": "stderr",
     "output_type": "stream",
     "text": [
      "<>:2: SyntaxWarning: invalid escape sequence '\\['\n",
      "<>:2: SyntaxWarning: invalid escape sequence '\\['\n",
      "C:\\Users\\da980\\AppData\\Local\\Temp\\ipykernel_35408\\1364413368.py:2: SyntaxWarning: invalid escape sequence '\\['\n",
      "  myDF['Cost'] = myDF['Cost'].astype(str).str.replace('[\\[\\]$]', '', regex=True)\n"
     ]
    }
   ],
   "source": [
    "# remove $ from the \"Cost\" column\n",
    "myDF['Cost'] = myDF['Cost'].astype(str).str.replace('[\\[\\]$]', '', regex=True)\n",
    "print(myDF.head(5))"
   ]
  },
  {
   "cell_type": "code",
   "execution_count": 41,
   "metadata": {},
   "outputs": [
    {
     "name": "stdout",
     "output_type": "stream",
     "text": [
      "<class 'numpy.int32'>\n"
     ]
    }
   ],
   "source": [
    "# Convert the \"Cost\" column to integer type\n",
    "myDF[\"Cost\"] = myDF[\"Cost\"].astype(int)\n",
    "print(type(myDF[\"Cost\"][0]))"
   ]
  },
  {
   "cell_type": "code",
   "execution_count": 42,
   "metadata": {},
   "outputs": [
    {
     "name": "stdout",
     "output_type": "stream",
     "text": [
      "54.586061246040124\n",
      "Continent\n",
      "Africa           54.741259\n",
      "Antarctica       54.706897\n",
      "Asia             54.279070\n",
      "Australia        56.838028\n",
      "Europe           53.258993\n",
      "North America    55.006993\n",
      "South America    53.162963\n",
      "Name: Cost, dtype: float64\n"
     ]
    }
   ],
   "source": [
    "# Calculate the average of the \"Cost\" column\n",
    "\n",
    "average_cost = myDF[\"Cost\"].mean()\n",
    "print(average_cost)\n",
    "\n",
    "# Calculate the average of the \"Cost\" column for each continent\n",
    "average_continent = myDF.groupby(\"Continent\")[\"Cost\"].mean()\n",
    "print(average_continent)\n"
   ]
  },
  {
   "cell_type": "code",
   "execution_count": 43,
   "metadata": {},
   "outputs": [
    {
     "name": "stdout",
     "output_type": "stream",
     "text": [
      "               min  max        std\n",
      "Continent                         \n",
      "Africa          11   97  25.961432\n",
      "Antarctica      10   97  24.880590\n",
      "Asia            10   99  26.109737\n",
      "Australia       10   97  26.057121\n",
      "Europe          10   99  26.185054\n",
      "North America   10   99  25.664821\n",
      "South America   10   98  25.724780\n"
     ]
    }
   ],
   "source": [
    "# 11.\tCalculate the min, max and standard deviation of the ‘Cost’ column, group by each ‘Continent’, all in one command.\n",
    "\n",
    "min_max_std = myDF.groupby(\"Continent\")[\"Cost\"].agg([\"min\", \"max\", \"std\"])\n",
    "print(min_max_std)\n",
    "\n"
   ]
  },
  {
   "cell_type": "code",
   "execution_count": 44,
   "metadata": {},
   "outputs": [
    {
     "name": "stdout",
     "output_type": "stream",
     "text": [
      "                ID                    Range                  Value      \\\n",
      "               min   max          std   min  max         std   min max   \n",
      "Continent                                                                \n",
      "Africa          50  9450  2614.387519   100  494  118.110406    10  50   \n",
      "Antarctica      80  9370  2936.313786   106  495  114.401370    10  50   \n",
      "Asia            10  9390  2683.431665   103  499  112.047425    10  50   \n",
      "Australia      120  9410  2793.945560   104  496  116.374530    10  50   \n",
      "Europe          70  9480  2623.991892   101  500  116.808685    10  50   \n",
      "North America   30  9490  2841.216413   104  500  113.611333    11  50   \n",
      "South America   90  9500  2656.186804   104  499  117.375623    10  50   \n",
      "\n",
      "                         Cost                 \n",
      "                     std  min max        std  \n",
      "Continent                                     \n",
      "Africa         12.498931   11  97  25.961432  \n",
      "Antarctica     11.978316   10  97  24.880590  \n",
      "Asia           11.752819   10  99  26.109737  \n",
      "Australia      13.138226   10  97  26.057121  \n",
      "Europe         11.999544   10  99  26.185054  \n",
      "North America  12.319601   10  99  25.664821  \n",
      "South America  11.762450   10  98  25.724780  \n"
     ]
    }
   ],
   "source": [
    "# 12.\tCalculate the min, max and standard deviation of all numerical columns, group by each ‘Continent’, all in one command\n",
    "\n",
    "numeric_cols = myDF.select_dtypes(include='number').columns\n",
    "all_stats = myDF.groupby(\"Continent\")[numeric_cols].agg([\"min\", \"max\", \"std\"])\n",
    "print(all_stats)\n"
   ]
  },
  {
   "cell_type": "code",
   "execution_count": 49,
   "metadata": {},
   "outputs": [
    {
     "data": {
      "image/png": "[encoded data removed]",
      "text/plain": [
       "<Figure size 640x480 with 1 Axes>"
      ]
     },
     "metadata": {},
     "output_type": "display_data"
    }
   ],
   "source": [
    "# 13.\tIllustrate the mean of all numerical columns, group by the ‘Continent’, using a ‘bar’ chart.\n",
    "continent_mean = myDF.groupby(\"Continent\")[numeric_cols].mean()\n",
    "continent_mean.plot(kind='bar')\n",
    "plt.show()"
   ]
  },
  {
   "cell_type": "code",
   "execution_count": 51,
   "metadata": {},
   "outputs": [
    {
     "name": "stdout",
     "output_type": "stream",
     "text": [
      "Continent\n",
      "North America    143\n",
      "Africa           143\n",
      "Australia        142\n",
      "Europe           139\n",
      "South America    135\n",
      "Asia             129\n",
      "Antarctica       116\n",
      "Name: count, dtype: int64\n"
     ]
    }
   ],
   "source": [
    "# 14.\tCount the number of each continent in the ‘Continent’ column. \n",
    "continent_count = myDF[\"Continent\"].value_counts()\n",
    "print(continent_count)"
   ]
  },
  {
   "cell_type": "code",
   "execution_count": null,
   "metadata": {},
   "outputs": [
    {
     "name": "stdout",
     "output_type": "stream",
     "text": [
      "Continent\n",
      "North America    15.100317\n",
      "Africa           15.100317\n",
      "Australia        14.994720\n",
      "Europe           14.677930\n",
      "South America    14.255544\n",
      "Asia             13.621964\n",
      "Antarctica       12.249208\n",
      "Name: proportion, dtype: float64\n"
     ]
    }
   ],
   "source": [
    "# 15.\tShow the percentage of each continent in the ‘Continent’ column. \n",
    "continent_percentage = myDF['Continent'].value_counts(normalize=True) \n",
    "print(continent_percentage * 100)"
   ]
  },
  {
   "cell_type": "code",
   "execution_count": null,
   "metadata": {},
   "outputs": [
    {
     "name": "stdout",
     "output_type": "stream",
     "text": [
      "['Asia' 'North America' 'Africa' 'Europe' 'Antarctica' 'South America'\n",
      " 'Australia']\n",
      "7\n"
     ]
    }
   ],
   "source": [
    "# 16.\tShow the unique values that we have in the ‘Continent’ column. Then show the number of unique values that we have in the ‘Continent’ column.\n",
    "unique_continent = myDF[\"Continent\"].unique()\n",
    "print(unique_continent)\n",
    "\n",
    "# how many unique values in the contient column\n",
    "number_of_unique_continent = myDF[\"Continent\"].nunique()\n",
    "print(number_of_unique_continent)\n"
   ]
  },
  {
   "cell_type": "code",
   "execution_count": null,
   "metadata": {},
   "outputs": [
    {
     "name": "stdout",
     "output_type": "stream",
     "text": [
      "Cost\n",
      "56    20\n",
      "35    20\n",
      "73    18\n",
      "54    17\n",
      "97    17\n",
      "      ..\n",
      "18     5\n",
      "94     5\n",
      "22     5\n",
      "42     3\n",
      "24     2\n",
      "Name: count, Length: 90, dtype: int64\n"
     ]
    }
   ],
   "source": [
    "cost_counts = myDF['Cost'].value_counts()\n",
    "print(cost_counts)\n",
    "\n",
    "# The output of the value_counts method for the \"cost\" column shows the frequency of each unique value.\n",
    "# it lists up the unique values in descending order of their frequency. \n",
    "# this can help identify the most common cost values and understand the distrubution of costs in the dataset."
   ]
  },
  {
   "cell_type": "code",
   "execution_count": 57,
   "metadata": {},
   "outputs": [
    {
     "data": {
      "image/png": "[encoded data removed]",
      "text/plain": [
       "<Figure size 1000x500 with 1 Axes>"
      ]
     },
     "metadata": {},
     "output_type": "display_data"
    }
   ],
   "source": [
    "# 18.\tPlot a histogram for the ‘Cost’ column. \n",
    "myDF[\"Cost\"].hist(bins=25, edgecolor=\"black\", figsize=(10, 5))\n",
    "plt.title(\"Histogram of Cost\")\n",
    "plt.show()"
   ]
  },
  {
   "cell_type": "code",
   "execution_count": 58,
   "metadata": {},
   "outputs": [
    {
     "data": {
      "image/png": "[encoded data removed]",
      "text/plain": [
       "<Figure size 1000x500 with 1 Axes>"
      ]
     },
     "metadata": {},
     "output_type": "display_data"
    }
   ],
   "source": [
    "# set up the bins = 50\n",
    "\n",
    "myDF[\"Cost\"].hist(bins=50, edgecolor=\"black\", figsize=(10, 5))\n",
    "plt.title(\"Histogram of Cost\")\n",
    "plt.show()"
   ]
  },
  {
   "cell_type": "code",
   "execution_count": null,
   "metadata": {},
   "outputs": [
    {
     "name": "stdout",
     "output_type": "stream",
     "text": [
      "9\n",
      "2\n",
      "ID           0\n",
      "Range        0\n",
      "Value        0\n",
      "Type         2\n",
      "Zip Code     9\n",
      "Cost         0\n",
      "Continent    0\n",
      "dtype: int64\n"
     ]
    }
   ],
   "source": [
    "# 20.\tHow many missing values do we have in the ‘Zip Code’ column? \n",
    "# How many missing values in the ‘Type’ column? Provide a brief summary of null values for the entire Data Frame.\n",
    "\n",
    "\n",
    "missing_zip_code = myDF[\"Zip Code\"].isnull().sum()\n",
    "print(missing_zip_code)\n",
    "\n",
    "missing_type = myDF[\"Type\"].isnull().sum()\n",
    "print(missing_type)\n",
    "\n",
    "null_summary = myDF.isnull().sum()\n",
    "print(null_summary)"
   ]
  },
  {
   "cell_type": "code",
   "execution_count": null,
   "metadata": {},
   "outputs": [
    {
     "name": "stdout",
     "output_type": "stream",
     "text": [
      "936\n"
     ]
    }
   ],
   "source": [
    "# 21.\tIf we drop all the rows that have ‘any’ missing value, how many rows will remain in myDF?\n",
    "myDF_dropped = myDF.dropna()\n",
    "remaining_rows = myDF_dropped.shape[0]\n",
    "\n",
    "\n",
    "# how mnay rows will remain in the dataframe\n",
    "print(remaining_rows)"
   ]
  },
  {
   "cell_type": "code",
   "execution_count": 64,
   "metadata": {},
   "outputs": [
    {
     "name": "stdout",
     "output_type": "stream",
     "text": [
      "Type\n",
      "AAA    50\n",
      "N      47\n",
      "Z      44\n",
      "Q      44\n",
      "C      43\n",
      "K      41\n",
      "V      41\n",
      "A      40\n",
      "H      39\n",
      "Y      39\n",
      "G      38\n",
      "M      37\n",
      "X      37\n",
      "U      36\n",
      "O      36\n",
      "L      35\n",
      "J      35\n",
      "S      34\n",
      "I      33\n",
      "W      32\n",
      "D      30\n",
      "B      29\n",
      "T      28\n",
      "P      28\n",
      "R      25\n",
      "E      24\n",
      "NaN     2\n",
      "Name: count, dtype: int64\n",
      "missing values in 'Type' column: 2\n"
     ]
    }
   ],
   "source": [
    "# 22.\tShow the statistics for the ‘Type’ column using the value_count method, \n",
    "# including the NaN values in the list. How many missing values do we have?\n",
    "\n",
    "\n",
    "type_counts = myDF[\"Type\"].value_counts(dropna=False)\n",
    "\n",
    "print(type_counts)\n",
    "\n",
    "missing_type_values = myDF[\"Type\"].isnull().sum()\n",
    "print(f\"missing values in 'Type' column: {missing_type_values}\")\n"
   ]
  },
  {
   "cell_type": "code",
   "execution_count": 65,
   "metadata": {},
   "outputs": [
    {
     "name": "stdout",
     "output_type": "stream",
     "text": [
      "Type\n",
      "AAA    50\n",
      "N      47\n",
      "Z      44\n",
      "Q      44\n",
      "C      43\n",
      "K      41\n",
      "V      41\n",
      "A      40\n",
      "H      39\n",
      "Y      39\n",
      "G      38\n",
      "M      37\n",
      "X      37\n",
      "U      36\n",
      "O      36\n",
      "L      35\n",
      "J      35\n",
      "S      34\n",
      "I      33\n",
      "W      32\n",
      "D      30\n",
      "B      29\n",
      "T      28\n",
      "P      28\n",
      "R      25\n",
      "E      24\n",
      "XXX     2\n",
      "Name: count, dtype: int64\n"
     ]
    }
   ],
   "source": [
    "# 23.\tReplace the ‘Type’ column missing values with ‘XXX’ and show the result again.\n",
    "\n",
    "myDF['Type'].fillna('XXX', inplace=True)\n",
    "type_replacement = myDF[\"Type\"].value_counts(dropna=False)\n",
    "print(type_replacement)"
   ]
  },
  {
   "cell_type": "code",
   "execution_count": 67,
   "metadata": {},
   "outputs": [
    {
     "name": "stdout",
     "output_type": "stream",
     "text": [
      "938\n"
     ]
    }
   ],
   "source": [
    "# 24.\tDrop the rows that have any missing value permanently and show the number of rows after running the drop command.\n",
    "\n",
    "myDF.dropna(inplace=True)\n",
    "remaining_rows = myDF.shape[0]\n",
    "print(remaining_rows)"
   ]
  },
  {
   "cell_type": "code",
   "execution_count": null,
   "metadata": {},
   "outputs": [
    {
     "name": "stdout",
     "output_type": "stream",
     "text": [
      "    Range  Value Type Zip Code  Cost      Continent\n",
      "10    192     50  AAA   NXEYEM    56           Asia\n",
      "30    378     28    X   IMGMFY    90  North America\n",
      "50    468     33    J   HPQCMC    95         Africa\n",
      "70    327     24  AAA   NLVQPY    25         Europe\n",
      "80    495     50    Z   DLUMAX    70     Antarctica\n",
      "24\n"
     ]
    }
   ],
   "source": [
    "# 25.\tSet the ‘ID’ column as the new index and delete the index name. Then show the first 5 rows of the DF.\n",
    "#  Show the value of the cell that its ID is 70 and its column header is ‘Value’.\n",
    "\n",
    "myDF.set_index(\"ID\", inplace=True)\n",
    "myDF.index.name = None\n",
    "\n",
    "print(myDF.head(5))\n",
    "\n",
    "cell_value = myDF.loc[70, \"Value\"]\n",
    "print(cell_value)"
   ]
  },
  {
   "cell_type": "code",
   "execution_count": 69,
   "metadata": {},
   "outputs": [
    {
     "name": "stdout",
     "output_type": "stream",
     "text": [
      "Current Index:  Index([  10,   30,   50,   70,   80,   90,  100,  110,  120,  130,\n",
      "       ...\n",
      "       9410, 9420, 9430, 9440, 9450, 9460, 9470, 9480, 9490, 9500],\n",
      "      dtype='int64', length=938)\n",
      "Current Columns:  Index(['Range', 'Value', 'Type', 'Zip Code', 'Cost', 'Continent'], dtype='object')\n",
      "Current Shape:  (938, 6)\n",
      "Updated Index:  RangeIndex(start=0, stop=938, step=1)\n",
      "Updated Columns:  Index(['index', 'Range', 'Value', 'Type', 'Zip Code', 'Cost', 'Continent'], dtype='object')\n",
      "Updated Shape:  (938, 7)\n"
     ]
    }
   ],
   "source": [
    "# 26.\tShow the index\n",
    "# , columns and the shape of the current DF.\n",
    "#  Bring back the ID column to the DF and reset the index.\n",
    "#  Again, show the index, columns and the shape of the current DF.\n",
    "\n",
    "print(\"Current Index: \", myDF.index)\n",
    "print(\"Current Columns: \", myDF.columns)\n",
    "print(\"Current Shape: \", myDF.shape)\n",
    "\n",
    "myDF.reset_index(inplace=True)\n",
    "\n",
    "# Updated Index, Columns, and Shape\n",
    "print(\"Updated Index: \", myDF.index)\n",
    "print(\"Updated Columns: \", myDF.columns)\n",
    "print(\"Updated Shape: \", myDF.shape)\n",
    "  "
   ]
  },
  {
   "cell_type": "code",
   "execution_count": null,
   "metadata": {},
   "outputs": [
    {
     "name": "stdout",
     "output_type": "stream",
     "text": [
      "   ID  Range  Value Type Zip Code   Cost      Continent\n",
      "0  10    192     50    F   NXEYEM  [56$]           Asia\n",
      "1  20    299     21    M   VNFKZD  [18$]           Asia\n",
      "2  30    378     28    X   IMGMFY  [90$]  North America\n",
      "3  40    156     44    Q   RHRHJY  [89$]           Asia\n",
      "4  50    468     33    J   HPQCMC  [95$]         Africa\n"
     ]
    }
   ],
   "source": [
    "# Drop \"Model\" column permanently\n",
    "myDF = myDF.drop(columns=['Model'])\n",
    "print(myDF.head())"
   ]
  },
  {
   "cell_type": "code",
   "execution_count": 70,
   "metadata": {},
   "outputs": [
    {
     "name": "stdout",
     "output_type": "stream",
     "text": [
      "             index       Range       Value        Cost\n",
      "count   938.000000  938.000000  938.000000  938.000000\n",
      "mean   4749.104478  297.531983   29.917910   54.611940\n",
      "std    2739.076928  115.913345   12.292447   25.742149\n",
      "min      10.000000  100.000000   10.000000   10.000000\n",
      "25%    2382.500000  194.000000   19.000000   33.000000\n",
      "50%    4725.000000  295.000000   30.000000   55.000000\n",
      "75%    7097.500000  400.000000   41.000000   76.000000\n",
      "max    9500.000000  500.000000   50.000000   99.000000\n",
      "938.0\n"
     ]
    }
   ],
   "source": [
    "# 27.\tUse the describe method to see the statistics of myDF and fetch the value of the first row and the third column of the result\n",
    "statistics = myDF.describe()\n",
    "print(statistics)\n",
    "\n",
    "value_first_row_third_column = statistics.iloc[0, 2]\n",
    "print(value_first_row_third_column)"
   ]
  },
  {
   "cell_type": "code",
   "execution_count": 74,
   "metadata": {},
   "outputs": [
    {
     "name": "stdout",
     "output_type": "stream",
     "text": [
      "Continent\n",
      "North America    141\n",
      "Australia        141\n",
      "Africa           139\n",
      "Europe           138\n",
      "South America    135\n",
      "Asia             129\n",
      "Antarctica       115\n",
      "Name: count, dtype: int64\n",
      "Continent\n",
      "Africa           139\n",
      "Antarctica       115\n",
      "Asia             129\n",
      "Australia        141\n",
      "Europe           138\n",
      "North America    141\n",
      "South America    135\n",
      "Name: count, dtype: int64\n"
     ]
    }
   ],
   "source": [
    "# 28.\tSort the value_counts() of the ‘Continent’ column of the DF. Then, sort the value_counts() of the ‘Continent’ column, based on the alphabetic order of the continents.\n",
    "\n",
    "continent_counts = myDF[\"Continent\"].value_counts().sort_values(ascending=False)\n",
    "print(continent_counts)\n",
    "\n",
    "continent_counts_alphabetic = myDF[\"Continent\"].value_counts().sort_index()\n",
    "print(continent_counts_alphabetic)"
   ]
  },
  {
   "cell_type": "code",
   "execution_count": 75,
   "metadata": {},
   "outputs": [
    {
     "name": "stdout",
     "output_type": "stream",
     "text": [
      "   index  Range  Value Type Zip Code  Cost      Continent\n",
      "1     30    378     28    X   IMGMFY    90  North America\n",
      "3     70    327     24  AAA   NLVQPY    25         Europe\n",
      "5     90    115     30    S   KYJUHA    17  South America\n",
      "7    110    301     29    A   OVINZU    69  South America\n",
      "  Type      Continent\n",
      "0  AAA           Asia\n",
      "1    X  North America\n",
      "2    J         Africa\n",
      "3  AAA         Europe\n",
      "4    Z     Antarctica\n",
      "5    S  South America\n",
      "6    K  South America\n"
     ]
    }
   ],
   "source": [
    "# 29.\tShow all the columns of the following rows in one command. [1,3,5,7] and show the first 7 rows of the following columns: ‘Type’ and ‘Continent’\n",
    "first_third_fifth_seventh = myDF.iloc[[1, 3, 5, 7]]\n",
    "print(first_third_fifth_seventh)\n",
    "\n",
    "first_7_rows_type_continent = myDF.loc[:6, [\"Type\", \"Continent\"]]\n",
    "print(first_7_rows_type_continent)"
   ]
  },
  {
   "cell_type": "code",
   "execution_count": 77,
   "metadata": {},
   "outputs": [
    {
     "name": "stdout",
     "output_type": "stream",
     "text": [
      "Values with Type XXX:  687    42\n",
      "743    37\n",
      "Name: Value, dtype: int64\n"
     ]
    }
   ],
   "source": [
    "# 30.\tShow the ‘Value’ of the ‘Type’ that are equal to ’XXX’.\n",
    "\n",
    "values_with_type_xxx = myDF.loc[myDF[\"Type\"] == \"XXX\", \"Value\"]\n",
    "\n",
    "print(\"Values with Type XXX: \", values_with_type_xxx)"
   ]
  }
 ],
 "metadata": {
  "kernelspec": {
   "display_name": "base",
   "language": "python",
   "name": "python3"
  },
  "language_info": {
   "codemirror_mode": {
    "name": "ipython",
    "version": 3
   },
   "file_extension": ".py",
   "mimetype": "text/x-python",
   "name": "python",
   "nbconvert_exporter": "python",
   "pygments_lexer": "ipython3",
   "version": "3.12.4"
  }
 },
 "nbformat": 4,
 "nbformat_minor": 2
}
